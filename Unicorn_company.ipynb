{
 "cells": [
  {
   "cell_type": "markdown",
   "metadata": {},
   "source": [
    "### Unicorn Company in the World"
   ]
  },
  {
   "cell_type": "markdown",
   "metadata": {},
   "source": [
    "##### An analysis into Unicorn companies, total funding received, city of incorporation, current valuation and some selected investors."
   ]
  },
  {
   "cell_type": "code",
   "execution_count": 1,
   "metadata": {},
   "outputs": [],
   "source": [
    "# import the neccesary libraries ....\n",
    "\n",
    "import pandas as pd\n",
    "import os\n",
    "import matplotlib.pyplot as plt\n",
    "import seaborn as sns"
   ]
  },
  {
   "cell_type": "markdown",
   "metadata": {},
   "source": [
    "###### Used Excel to check through the data, calculate through the years to become a Unicorn and calculate the ROI.\n",
    "###### All figures are in billion dollars, except ROI which is multiples"
   ]
  },
  {
   "cell_type": "code",
   "execution_count": 176,
   "metadata": {},
   "outputs": [
    {
     "data": {
      "text/html": [
       "<div>\n",
       "<style scoped>\n",
       "    .dataframe tbody tr th:only-of-type {\n",
       "        vertical-align: middle;\n",
       "    }\n",
       "\n",
       "    .dataframe tbody tr th {\n",
       "        vertical-align: top;\n",
       "    }\n",
       "\n",
       "    .dataframe thead th {\n",
       "        text-align: right;\n",
       "    }\n",
       "</style>\n",
       "<table border=\"1\" class=\"dataframe\">\n",
       "  <thead>\n",
       "    <tr style=\"text-align: right;\">\n",
       "      <th></th>\n",
       "      <th>Company</th>\n",
       "      <th>Valuation</th>\n",
       "      <th>Date Joined</th>\n",
       "      <th>Industry</th>\n",
       "      <th>City</th>\n",
       "      <th>Country</th>\n",
       "      <th>Continent</th>\n",
       "      <th>Year Founded</th>\n",
       "      <th>Funding</th>\n",
       "      <th>Select Investors</th>\n",
       "      <th>Year to be a unicorn</th>\n",
       "      <th>Return on investment</th>\n",
       "    </tr>\n",
       "  </thead>\n",
       "  <tbody>\n",
       "    <tr>\n",
       "      <th>0</th>\n",
       "      <td>Bytedance</td>\n",
       "      <td>180</td>\n",
       "      <td>07/04/2017</td>\n",
       "      <td>Artificial Intelligence</td>\n",
       "      <td>Beijing</td>\n",
       "      <td>China</td>\n",
       "      <td>Asia</td>\n",
       "      <td>2012</td>\n",
       "      <td>8</td>\n",
       "      <td>Sequoia Capital China, SIG Asia Investments, S...</td>\n",
       "      <td>5</td>\n",
       "      <td>23</td>\n",
       "    </tr>\n",
       "    <tr>\n",
       "      <th>1</th>\n",
       "      <td>SpaceX</td>\n",
       "      <td>100</td>\n",
       "      <td>01/12/2012</td>\n",
       "      <td>Other</td>\n",
       "      <td>Hawthorne</td>\n",
       "      <td>United States</td>\n",
       "      <td>North America</td>\n",
       "      <td>2002</td>\n",
       "      <td>7</td>\n",
       "      <td>Founders Fund, Draper Fisher Jurvetson, Rothen...</td>\n",
       "      <td>10</td>\n",
       "      <td>14</td>\n",
       "    </tr>\n",
       "  </tbody>\n",
       "</table>\n",
       "</div>"
      ],
      "text/plain": [
       "     Company  Valuation Date Joined                 Industry       City  \\\n",
       "0  Bytedance        180  07/04/2017  Artificial Intelligence    Beijing   \n",
       "1     SpaceX        100  01/12/2012                    Other  Hawthorne   \n",
       "\n",
       "         Country      Continent  Year Founded  Funding  \\\n",
       "0          China           Asia          2012        8   \n",
       "1  United States  North America          2002        7   \n",
       "\n",
       "                                    Select Investors  Year to be a unicorn  \\\n",
       "0  Sequoia Capital China, SIG Asia Investments, S...                     5   \n",
       "1  Founders Fund, Draper Fisher Jurvetson, Rothen...                    10   \n",
       "\n",
       "   Return on investment  \n",
       "0                    23  \n",
       "1                    14  "
      ]
     },
     "execution_count": 176,
     "metadata": {},
     "output_type": "execute_result"
    }
   ],
   "source": [
    "working_directory = os.getcwd()\n",
    "path = working_directory + '/Unicorn_Companies.csv'\n",
    "df = pd.read_csv(path)\n",
    "df.head(2)"
   ]
  },
  {
   "cell_type": "code",
   "execution_count": 177,
   "metadata": {},
   "outputs": [
    {
     "name": "stdout",
     "output_type": "stream",
     "text": [
      "<class 'pandas.core.frame.DataFrame'>\n",
      "RangeIndex: 1074 entries, 0 to 1073\n",
      "Data columns (total 12 columns):\n",
      " #   Column                Non-Null Count  Dtype \n",
      "---  ------                --------------  ----- \n",
      " 0   Company               1074 non-null   object\n",
      " 1   Valuation             1074 non-null   int64 \n",
      " 2   Date Joined           1074 non-null   object\n",
      " 3   Industry              1074 non-null   object\n",
      " 4   City                  1058 non-null   object\n",
      " 5   Country               1074 non-null   object\n",
      " 6   Continent             1074 non-null   object\n",
      " 7   Year Founded          1074 non-null   int64 \n",
      " 8   Funding               1074 non-null   int64 \n",
      " 9   Select Investors      1073 non-null   object\n",
      " 10  Year to be a unicorn  1074 non-null   int64 \n",
      " 11  Return on investment  1074 non-null   int64 \n",
      "dtypes: int64(5), object(7)\n",
      "memory usage: 100.8+ KB\n"
     ]
    }
   ],
   "source": [
    "df.info()"
   ]
  },
  {
   "cell_type": "code",
   "execution_count": 96,
   "metadata": {},
   "outputs": [
    {
     "data": {
      "text/plain": [
       "(1074, 12)"
      ]
     },
     "execution_count": 96,
     "metadata": {},
     "output_type": "execute_result"
    }
   ],
   "source": [
    "df.shape"
   ]
  },
  {
   "cell_type": "code",
   "execution_count": null,
   "metadata": {},
   "outputs": [
    {
     "name": "stderr",
     "output_type": "stream",
     "text": [
      "C:\\Users\\sadeo\\AppData\\Local\\Temp/ipykernel_11176/3698961737.py:1: FutureWarning: DataFrame.mean and DataFrame.median with numeric_only=None will include datetime64 and datetime64tz columns in a future version.\n",
      "  df.mean()\n",
      "C:\\Users\\sadeo\\AppData\\Local\\Temp/ipykernel_11176/3698961737.py:1: FutureWarning: Dropping of nuisance columns in DataFrame reductions (with 'numeric_only=None') is deprecated; in a future version this will raise TypeError.  Select only valid columns before calling the reduction.\n",
      "  df.mean()\n"
     ]
    },
    {
     "data": {
      "text/plain": [
       "Valuation                  3.455307\n",
       "Year_Founded            2012.895717\n",
       "Year_to_be_a_unicorn       7.000931\n",
       "Return_on_investment       1.667598\n",
       "dtype: float64"
      ]
     },
     "metadata": {},
     "output_type": "display_data"
    }
   ],
   "source": [
    "df.mean()"
   ]
  },
  {
   "cell_type": "code",
   "execution_count": 180,
   "metadata": {},
   "outputs": [
    {
     "data": {
      "text/html": [
       "<div>\n",
       "<style scoped>\n",
       "    .dataframe tbody tr th:only-of-type {\n",
       "        vertical-align: middle;\n",
       "    }\n",
       "\n",
       "    .dataframe tbody tr th {\n",
       "        vertical-align: top;\n",
       "    }\n",
       "\n",
       "    .dataframe thead th {\n",
       "        text-align: right;\n",
       "    }\n",
       "</style>\n",
       "<table border=\"1\" class=\"dataframe\">\n",
       "  <thead>\n",
       "    <tr style=\"text-align: right;\">\n",
       "      <th></th>\n",
       "      <th>Company</th>\n",
       "      <th>Valuation</th>\n",
       "      <th>Date_Joined</th>\n",
       "      <th>Industry</th>\n",
       "      <th>City</th>\n",
       "      <th>Country</th>\n",
       "      <th>Continent</th>\n",
       "      <th>Year_Founded</th>\n",
       "      <th>Funding</th>\n",
       "      <th>Select_Investors</th>\n",
       "      <th>Year_to_be_a_unicorn</th>\n",
       "      <th>Return_on_investment</th>\n",
       "    </tr>\n",
       "  </thead>\n",
       "  <tbody>\n",
       "    <tr>\n",
       "      <th>1073</th>\n",
       "      <td>Zwift</td>\n",
       "      <td>1</td>\n",
       "      <td>16/09/2020</td>\n",
       "      <td>E-commerce &amp; direct-to-consumer</td>\n",
       "      <td>Long Beach</td>\n",
       "      <td>United States</td>\n",
       "      <td>North America</td>\n",
       "      <td>2014</td>\n",
       "      <td>1</td>\n",
       "      <td>Novator Partners, True, Causeway Media Partners</td>\n",
       "      <td>6</td>\n",
       "      <td>1</td>\n",
       "    </tr>\n",
       "  </tbody>\n",
       "</table>\n",
       "</div>"
      ],
      "text/plain": [
       "     Company  Valuation Date_Joined                         Industry  \\\n",
       "1073   Zwift          1  16/09/2020  E-commerce & direct-to-consumer   \n",
       "\n",
       "            City        Country      Continent  Year_Founded  Funding  \\\n",
       "1073  Long Beach  United States  North America          2014        1   \n",
       "\n",
       "                                     Select_Investors  Year_to_be_a_unicorn  \\\n",
       "1073  Novator Partners, True, Causeway Media Partners                     6   \n",
       "\n",
       "      Return_on_investment  \n",
       "1073                     1  "
      ]
     },
     "execution_count": 180,
     "metadata": {},
     "output_type": "execute_result"
    }
   ],
   "source": [
    "# rename the columns for with space using underscore, for easy access\n",
    "\n",
    "df.columns = df.columns.str.replace(' ', '_')\n",
    "df.tail(1)"
   ]
  },
  {
   "cell_type": "code",
   "execution_count": 181,
   "metadata": {},
   "outputs": [
    {
     "data": {
      "text/html": [
       "<div>\n",
       "<style scoped>\n",
       "    .dataframe tbody tr th:only-of-type {\n",
       "        vertical-align: middle;\n",
       "    }\n",
       "\n",
       "    .dataframe tbody tr th {\n",
       "        vertical-align: top;\n",
       "    }\n",
       "\n",
       "    .dataframe thead th {\n",
       "        text-align: right;\n",
       "    }\n",
       "</style>\n",
       "<table border=\"1\" class=\"dataframe\">\n",
       "  <thead>\n",
       "    <tr style=\"text-align: right;\">\n",
       "      <th></th>\n",
       "      <th>Company</th>\n",
       "      <th>Valuation</th>\n",
       "      <th>Date_Joined</th>\n",
       "      <th>Industry</th>\n",
       "      <th>City</th>\n",
       "      <th>Country</th>\n",
       "      <th>Continent</th>\n",
       "      <th>Year_Founded</th>\n",
       "      <th>Funding</th>\n",
       "      <th>Select_Investors</th>\n",
       "      <th>Year_to_be_a_unicorn</th>\n",
       "      <th>Return_on_investment</th>\n",
       "    </tr>\n",
       "  </thead>\n",
       "  <tbody>\n",
       "    <tr>\n",
       "      <th>0</th>\n",
       "      <td>Bytedance</td>\n",
       "      <td>180</td>\n",
       "      <td>2017-07-04</td>\n",
       "      <td>Artificial Intelligence</td>\n",
       "      <td>Beijing</td>\n",
       "      <td>China</td>\n",
       "      <td>Asia</td>\n",
       "      <td>2012</td>\n",
       "      <td>8</td>\n",
       "      <td>Sequoia Capital China, SIG Asia Investments, S...</td>\n",
       "      <td>5</td>\n",
       "      <td>23</td>\n",
       "    </tr>\n",
       "    <tr>\n",
       "      <th>1</th>\n",
       "      <td>SpaceX</td>\n",
       "      <td>100</td>\n",
       "      <td>2012-01-12</td>\n",
       "      <td>Other</td>\n",
       "      <td>Hawthorne</td>\n",
       "      <td>United States</td>\n",
       "      <td>North America</td>\n",
       "      <td>2002</td>\n",
       "      <td>7</td>\n",
       "      <td>Founders Fund, Draper Fisher Jurvetson, Rothen...</td>\n",
       "      <td>10</td>\n",
       "      <td>14</td>\n",
       "    </tr>\n",
       "  </tbody>\n",
       "</table>\n",
       "</div>"
      ],
      "text/plain": [
       "     Company  Valuation Date_Joined                 Industry       City  \\\n",
       "0  Bytedance        180  2017-07-04  Artificial Intelligence    Beijing   \n",
       "1     SpaceX        100  2012-01-12                    Other  Hawthorne   \n",
       "\n",
       "         Country      Continent  Year_Founded  Funding  \\\n",
       "0          China           Asia          2012        8   \n",
       "1  United States  North America          2002        7   \n",
       "\n",
       "                                    Select_Investors  Year_to_be_a_unicorn  \\\n",
       "0  Sequoia Capital China, SIG Asia Investments, S...                     5   \n",
       "1  Founders Fund, Draper Fisher Jurvetson, Rothen...                    10   \n",
       "\n",
       "   Return_on_investment  \n",
       "0                    23  \n",
       "1                    14  "
      ]
     },
     "execution_count": 181,
     "metadata": {},
     "output_type": "execute_result"
    }
   ],
   "source": [
    "df['Date_Joined'] = pd.to_datetime(df['Date_Joined'])\n",
    "df.head(2)"
   ]
  },
  {
   "cell_type": "code",
   "execution_count": 213,
   "metadata": {},
   "outputs": [],
   "source": [
    "plt.scatter(df.Valuation, df.Funding)\n",
    "plt.show()"
   ]
  },
  {
   "cell_type": "markdown",
   "metadata": {},
   "source": [
    "#### Industries and No of Unicorns"
   ]
  },
  {
   "cell_type": "code",
   "execution_count": null,
   "metadata": {},
   "outputs": [
    {
     "data": {
      "text/plain": [
       "['Auto & transportation',\n",
       " 'Other',\n",
       " 'Artificial Intelligence',\n",
       " 'Travel',\n",
       " 'Internet software & services',\n",
       " 'Consumer & retail',\n",
       " 'Health',\n",
       " 'Fintech',\n",
       " 'E-commerce & direct-to-consumer',\n",
       " 'Supply chain, logistics, & delivery',\n",
       " 'Data management & analytics',\n",
       " 'Cybersecurity',\n",
       " 'Edtech',\n",
       " 'Hardware',\n",
       " 'Mobile & telecommunications']"
      ]
     },
     "metadata": {},
     "output_type": "display_data"
    }
   ],
   "source": [
    "list(set(df.Country))\n",
    "list(set(df.Industry))"
   ]
  },
  {
   "cell_type": "code",
   "execution_count": 68,
   "metadata": {},
   "outputs": [
    {
     "data": {
      "text/plain": [
       "Industry\n",
       "Fintech                                224\n",
       "Internet software & services           205\n",
       "E-commerce & direct-to-consumer        111\n",
       "Artificial Intelligence                 84\n",
       "Health                                  74\n",
       "Other                                   58\n",
       "Supply chain, logistics, & delivery     57\n",
       "Cybersecurity                           50\n",
       "Data management & analytics             41\n",
       "Mobile & telecommunications             38\n",
       "Hardware                                34\n",
       "Auto & transportation                   31\n",
       "Edtech                                  28\n",
       "Consumer & retail                       25\n",
       "Travel                                  14\n",
       "Name: Company, dtype: int64"
      ]
     },
     "execution_count": 68,
     "metadata": {},
     "output_type": "execute_result"
    }
   ],
   "source": [
    "# Industry classification of Unicorns\n",
    "\n",
    "Industy_unicorn = df.groupby('Industry').count()\n",
    "Industy_unicorn = Industy_unicorn.sort_values(by='Company', ascending=False)\n",
    "Industy_unicorn.Company"
   ]
  },
  {
   "cell_type": "code",
   "execution_count": 119,
   "metadata": {},
   "outputs": [
    {
     "data": {
      "text/plain": [
       "Text(0.5, 0, 'No of Unicorns')"
      ]
     },
     "execution_count": 119,
     "metadata": {},
     "output_type": "execute_result"
    },
    {
     "data": {
      "image/png": "[encoded data removed]",
      "text/plain": [
       "<Figure size 432x288 with 1 Axes>"
      ]
     },
     "metadata": {
      "needs_background": "light"
     },
     "output_type": "display_data"
    }
   ],
   "source": [
    "# Graphical illustration\n",
    "\n",
    "ax = sns.barplot(data = Industy_unicorn, x=Industy_unicorn.Company, y= Industy_unicorn.index, orient='horizontal')\n",
    "ax.set_title('Sectorial distribution of Unicorns', size=18)\n",
    "ax.set_xlabel('No of Unicorns')\n"
   ]
  },
  {
   "cell_type": "markdown",
   "metadata": {},
   "source": [
    "##### Analyse the industry with the fastest chance to become a Unicorn as well as the associated returns on investment"
   ]
  },
  {
   "cell_type": "code",
   "execution_count": 182,
   "metadata": {},
   "outputs": [
    {
     "data": {
      "text/html": [
       "<div>\n",
       "<style scoped>\n",
       "    .dataframe tbody tr th:only-of-type {\n",
       "        vertical-align: middle;\n",
       "    }\n",
       "\n",
       "    .dataframe tbody tr th {\n",
       "        vertical-align: top;\n",
       "    }\n",
       "\n",
       "    .dataframe thead th {\n",
       "        text-align: right;\n",
       "    }\n",
       "</style>\n",
       "<table border=\"1\" class=\"dataframe\">\n",
       "  <thead>\n",
       "    <tr style=\"text-align: right;\">\n",
       "      <th></th>\n",
       "      <th>Valuation</th>\n",
       "      <th>Year_Founded</th>\n",
       "      <th>Funding</th>\n",
       "      <th>Year_to_be_a_unicorn</th>\n",
       "      <th>Return_on_investment</th>\n",
       "    </tr>\n",
       "    <tr>\n",
       "      <th>Industry</th>\n",
       "      <th></th>\n",
       "      <th></th>\n",
       "      <th></th>\n",
       "      <th></th>\n",
       "      <th></th>\n",
       "    </tr>\n",
       "  </thead>\n",
       "  <tbody>\n",
       "    <tr>\n",
       "      <th>Health</th>\n",
       "      <td>2.675676</td>\n",
       "      <td>2011.878378</td>\n",
       "      <td>0.418919</td>\n",
       "      <td>8.189189</td>\n",
       "      <td>1.716216</td>\n",
       "    </tr>\n",
       "    <tr>\n",
       "      <th>Consumer &amp; retail</th>\n",
       "      <td>4.240000</td>\n",
       "      <td>2010.320000</td>\n",
       "      <td>1.040000</td>\n",
       "      <td>8.080000</td>\n",
       "      <td>1.840000</td>\n",
       "    </tr>\n",
       "    <tr>\n",
       "      <th>Data management &amp; analytics</th>\n",
       "      <td>3.317073</td>\n",
       "      <td>2012.073171</td>\n",
       "      <td>0.317073</td>\n",
       "      <td>8.073171</td>\n",
       "      <td>1.414634</td>\n",
       "    </tr>\n",
       "    <tr>\n",
       "      <th>Internet software &amp; services</th>\n",
       "      <td>2.902439</td>\n",
       "      <td>2012.531707</td>\n",
       "      <td>0.287805</td>\n",
       "      <td>7.868293</td>\n",
       "      <td>1.351220</td>\n",
       "    </tr>\n",
       "    <tr>\n",
       "      <th>Other</th>\n",
       "      <td>4.344828</td>\n",
       "      <td>2011.844828</td>\n",
       "      <td>0.672414</td>\n",
       "      <td>7.775862</td>\n",
       "      <td>1.189655</td>\n",
       "    </tr>\n",
       "    <tr>\n",
       "      <th>Edtech</th>\n",
       "      <td>3.571429</td>\n",
       "      <td>2011.535714</td>\n",
       "      <td>0.750000</td>\n",
       "      <td>7.714286</td>\n",
       "      <td>1.500000</td>\n",
       "    </tr>\n",
       "    <tr>\n",
       "      <th>Supply chain, logistics, &amp; delivery</th>\n",
       "      <td>3.105263</td>\n",
       "      <td>2013.035088</td>\n",
       "      <td>0.754386</td>\n",
       "      <td>6.929825</td>\n",
       "      <td>1.421053</td>\n",
       "    </tr>\n",
       "    <tr>\n",
       "      <th>Cybersecurity</th>\n",
       "      <td>2.580000</td>\n",
       "      <td>2013.600000</td>\n",
       "      <td>0.440000</td>\n",
       "      <td>6.800000</td>\n",
       "      <td>1.700000</td>\n",
       "    </tr>\n",
       "    <tr>\n",
       "      <th>Travel</th>\n",
       "      <td>3.285714</td>\n",
       "      <td>2012.214286</td>\n",
       "      <td>1.071429</td>\n",
       "      <td>6.571429</td>\n",
       "      <td>2.357143</td>\n",
       "    </tr>\n",
       "    <tr>\n",
       "      <th>Fintech</th>\n",
       "      <td>3.937500</td>\n",
       "      <td>2013.977679</td>\n",
       "      <td>0.441964</td>\n",
       "      <td>6.544643</td>\n",
       "      <td>2.098214</td>\n",
       "    </tr>\n",
       "    <tr>\n",
       "      <th>E-commerce &amp; direct-to-consumer</th>\n",
       "      <td>3.837838</td>\n",
       "      <td>2012.801802</td>\n",
       "      <td>0.657658</td>\n",
       "      <td>6.432432</td>\n",
       "      <td>2.018018</td>\n",
       "    </tr>\n",
       "    <tr>\n",
       "      <th>Mobile &amp; telecommunications</th>\n",
       "      <td>2.342105</td>\n",
       "      <td>2012.078947</td>\n",
       "      <td>0.315789</td>\n",
       "      <td>6.315789</td>\n",
       "      <td>1.184211</td>\n",
       "    </tr>\n",
       "    <tr>\n",
       "      <th>Hardware</th>\n",
       "      <td>2.911765</td>\n",
       "      <td>2012.882353</td>\n",
       "      <td>0.617647</td>\n",
       "      <td>5.941176</td>\n",
       "      <td>1.529412</td>\n",
       "    </tr>\n",
       "    <tr>\n",
       "      <th>Artificial Intelligence</th>\n",
       "      <td>4.488095</td>\n",
       "      <td>2013.892857</td>\n",
       "      <td>0.440476</td>\n",
       "      <td>5.892857</td>\n",
       "      <td>1.464286</td>\n",
       "    </tr>\n",
       "    <tr>\n",
       "      <th>Auto &amp; transportation</th>\n",
       "      <td>3.193548</td>\n",
       "      <td>2013.838710</td>\n",
       "      <td>1.096774</td>\n",
       "      <td>5.032258</td>\n",
       "      <td>1.903226</td>\n",
       "    </tr>\n",
       "  </tbody>\n",
       "</table>\n",
       "</div>"
      ],
      "text/plain": [
       "                                     Valuation  Year_Founded   Funding  \\\n",
       "Industry                                                                 \n",
       "Health                                2.675676   2011.878378  0.418919   \n",
       "Consumer & retail                     4.240000   2010.320000  1.040000   \n",
       "Data management & analytics           3.317073   2012.073171  0.317073   \n",
       "Internet software & services          2.902439   2012.531707  0.287805   \n",
       "Other                                 4.344828   2011.844828  0.672414   \n",
       "Edtech                                3.571429   2011.535714  0.750000   \n",
       "Supply chain, logistics, & delivery   3.105263   2013.035088  0.754386   \n",
       "Cybersecurity                         2.580000   2013.600000  0.440000   \n",
       "Travel                                3.285714   2012.214286  1.071429   \n",
       "Fintech                               3.937500   2013.977679  0.441964   \n",
       "E-commerce & direct-to-consumer       3.837838   2012.801802  0.657658   \n",
       "Mobile & telecommunications           2.342105   2012.078947  0.315789   \n",
       "Hardware                              2.911765   2012.882353  0.617647   \n",
       "Artificial Intelligence               4.488095   2013.892857  0.440476   \n",
       "Auto & transportation                 3.193548   2013.838710  1.096774   \n",
       "\n",
       "                                     Year_to_be_a_unicorn  \\\n",
       "Industry                                                    \n",
       "Health                                           8.189189   \n",
       "Consumer & retail                                8.080000   \n",
       "Data management & analytics                      8.073171   \n",
       "Internet software & services                     7.868293   \n",
       "Other                                            7.775862   \n",
       "Edtech                                           7.714286   \n",
       "Supply chain, logistics, & delivery              6.929825   \n",
       "Cybersecurity                                    6.800000   \n",
       "Travel                                           6.571429   \n",
       "Fintech                                          6.544643   \n",
       "E-commerce & direct-to-consumer                  6.432432   \n",
       "Mobile & telecommunications                      6.315789   \n",
       "Hardware                                         5.941176   \n",
       "Artificial Intelligence                          5.892857   \n",
       "Auto & transportation                            5.032258   \n",
       "\n",
       "                                     Return_on_investment  \n",
       "Industry                                                   \n",
       "Health                                           1.716216  \n",
       "Consumer & retail                                1.840000  \n",
       "Data management & analytics                      1.414634  \n",
       "Internet software & services                     1.351220  \n",
       "Other                                            1.189655  \n",
       "Edtech                                           1.500000  \n",
       "Supply chain, logistics, & delivery              1.421053  \n",
       "Cybersecurity                                    1.700000  \n",
       "Travel                                           2.357143  \n",
       "Fintech                                          2.098214  \n",
       "E-commerce & direct-to-consumer                  2.018018  \n",
       "Mobile & telecommunications                      1.184211  \n",
       "Hardware                                         1.529412  \n",
       "Artificial Intelligence                          1.464286  \n",
       "Auto & transportation                            1.903226  "
      ]
     },
     "execution_count": 182,
     "metadata": {},
     "output_type": "execute_result"
    }
   ],
   "source": [
    "# calculating the years it takes to becoming a unicorn\n",
    "\n",
    "Years_unicorn = df.groupby('Industry').mean()\n",
    "Years_unicorn = Years_unicorn.loc[:]\n",
    "Years_unicorn= Years_unicorn.sort_values(by='Year_to_be_a_unicorn', ascending=False)\n",
    "Years_unicorn"
   ]
  },
  {
   "cell_type": "code",
   "execution_count": 157,
   "metadata": {},
   "outputs": [
    {
     "data": {
      "text/plain": [
       "(array([0., 1., 2., 3., 4., 5., 6., 7., 8., 9.]),\n",
       " [Text(0, 0, ''),\n",
       "  Text(0, 0, ''),\n",
       "  Text(0, 0, ''),\n",
       "  Text(0, 0, ''),\n",
       "  Text(0, 0, ''),\n",
       "  Text(0, 0, ''),\n",
       "  Text(0, 0, ''),\n",
       "  Text(0, 0, ''),\n",
       "  Text(0, 0, ''),\n",
       "  Text(0, 0, '')])"
      ]
     },
     "execution_count": 157,
     "metadata": {},
     "output_type": "execute_result"
    },
    {
     "data": {
      "image/png": "[encoded data removed]",
      "text/plain": [
       "<Figure size 432x288 with 1 Axes>"
      ]
     },
     "metadata": {
      "needs_background": "light"
     },
     "output_type": "display_data"
    }
   ],
   "source": [
    "# Graphical illustration\n",
    "colors = sns.color_palette(\"crest\")\n",
    "\n",
    "plt.barh(Years_unicorn.index, Years_unicorn.Year_to_be_a_unicorn, color=colors)\n",
    "plt.title('Number of years to become a Unicorn per Sector', size=16)\n",
    "plt.xlabel('No of years')\n",
    "plt.xticks(rotation='vertical', size=12)\n"
   ]
  },
  {
   "cell_type": "markdown",
   "metadata": {},
   "source": [
    "##### Investment and returns by sectors"
   ]
  },
  {
   "cell_type": "code",
   "execution_count": 196,
   "metadata": {},
   "outputs": [
    {
     "name": "stderr",
     "output_type": "stream",
     "text": [
      "C:\\Users\\sadeo\\AppData\\Local\\Temp/ipykernel_11176/389311853.py:17: UserWarning: FixedFormatter should only be used together with FixedLocator\n",
      "  ax1.set_xticklabels(keys, rotation='vertical', size=10)\n",
      "C:\\Users\\sadeo\\AppData\\Local\\Temp/ipykernel_11176/389311853.py:20: UserWarning: Matplotlib is currently using module://matplotlib_inline.backend_inline, which is a non-GUI backend, so cannot show the figure.\n",
      "  fig.show()\n"
     ]
    },
    {
     "data": {
      "image/png": "[encoded data removed]",
      "text/plain": [
       "<Figure size 432x288 with 2 Axes>"
      ]
     },
     "metadata": {
      "needs_background": "light"
     },
     "output_type": "display_data"
    }
   ],
   "source": [
    "%matplotlib inline \n",
    "\n",
    "Years_unicorn1 = Years_unicorn.sort_values(by='Funding', ascending=False)\n",
    "\n",
    "keys = Years_unicorn1.index\n",
    "colors = sns.color_palette('gist_gray')\n",
    "\n",
    "fig, ax1 = plt.subplots()\n",
    "\n",
    "ax2 = ax1.twinx()\n",
    "ax1.bar(keys, Years_unicorn1.Funding*1000, color=colors)\n",
    "ax2.plot(keys, Years_unicorn1.Return_on_investment, color='red')\n",
    "\n",
    "ax1.set_xlabel('Industry')\n",
    "ax1.set_ylabel('Avg Funding ($ millions)', color='black')\n",
    "ax2.set_ylabel('ROI (x)', color='red')\n",
    "ax1.set_xticklabels(keys, rotation='vertical', size=10)\n",
    "ax1.set_title('Unicorn funding and Return on Investment', size=16)\n",
    "\n",
    "fig.show()\n"
   ]
  },
  {
   "cell_type": "code",
   "execution_count": 202,
   "metadata": {},
   "outputs": [
    {
     "name": "stderr",
     "output_type": "stream",
     "text": [
      "C:\\Users\\sadeo\\AppData\\Local\\Temp/ipykernel_11176/151401072.py:16: UserWarning: FixedFormatter should only be used together with FixedLocator\n",
      "  ax1.set_xticklabels(keys, rotation='vertical', size=10)\n",
      "C:\\Users\\sadeo\\AppData\\Local\\Temp/ipykernel_11176/151401072.py:19: UserWarning: Matplotlib is currently using module://matplotlib_inline.backend_inline, which is a non-GUI backend, so cannot show the figure.\n",
      "  fig.show()\n"
     ]
    },
    {
     "data": {
      "image/png": "[encoded data removed]",
      "text/plain": [
       "<Figure size 432x288 with 2 Axes>"
      ]
     },
     "metadata": {
      "needs_background": "light"
     },
     "output_type": "display_data"
    }
   ],
   "source": [
    "%matplotlib inline \n",
    "\n",
    "Years_unicorn1 = Years_unicorn.sort_values(by='Funding', ascending=True)\n",
    "\n",
    "keys = Years_unicorn1.index\n",
    "colors = sns.color_palette('gist_gray')\n",
    "\n",
    "fig, ax1 = plt.subplots()\n",
    "\n",
    "ax2 = ax1.twinx()\n",
    "ax1.bar(keys, Years_unicorn1.Funding*1000, color=colors)\n",
    "ax2.plot(keys, Years_unicorn1.Valuation, color='red')\n",
    "\n",
    "ax1.set_ylabel('Avg Funding ($ millions)', color='black')\n",
    "ax2.set_ylabel('Current Valuation ($ millions)', color='red')\n",
    "ax1.set_xticklabels(keys, rotation='vertical', size=10)\n",
    "ax1.set_title('Current Valuation and funding ($ millions)', size=16)\n",
    "\n",
    "fig.show()"
   ]
  },
  {
   "cell_type": "markdown",
   "metadata": {},
   "source": [
    "#### Country Unicorn Analysis"
   ]
  },
  {
   "cell_type": "markdown",
   "metadata": {},
   "source": [
    "Country analysis will be executed here while visualisations will be explored in Tableau"
   ]
  },
  {
   "cell_type": "code",
   "execution_count": 211,
   "metadata": {},
   "outputs": [
    {
     "ename": "PermissionError",
     "evalue": "[Errno 13] Permission denied: 'country.xlsx'",
     "output_type": "error",
     "traceback": [
      "\u001b[1;31m---------------------------------------------------------------------------\u001b[0m",
      "\u001b[1;31mPermissionError\u001b[0m                           Traceback (most recent call last)",
      "\u001b[1;32m~\\AppData\\Local\\Temp/ipykernel_11176/2187577432.py\u001b[0m in \u001b[0;36m<module>\u001b[1;34m\u001b[0m\n\u001b[0;32m      1\u001b[0m \u001b[0mcountry_unicorn\u001b[0m \u001b[1;33m=\u001b[0m \u001b[0mdf\u001b[0m\u001b[1;33m.\u001b[0m\u001b[0mgroupby\u001b[0m\u001b[1;33m(\u001b[0m\u001b[1;34m'Country'\u001b[0m\u001b[1;33m)\u001b[0m\u001b[1;33m.\u001b[0m\u001b[0mcount\u001b[0m\u001b[1;33m(\u001b[0m\u001b[1;33m)\u001b[0m\u001b[1;33m\u001b[0m\u001b[1;33m\u001b[0m\u001b[0m\n\u001b[0;32m      2\u001b[0m \u001b[0mcountry_unicorn\u001b[0m \u001b[1;33m=\u001b[0m \u001b[0mcountry_unicorn\u001b[0m\u001b[1;33m.\u001b[0m\u001b[0mCompany\u001b[0m\u001b[1;33m\u001b[0m\u001b[1;33m\u001b[0m\u001b[0m\n\u001b[1;32m----> 3\u001b[1;33m \u001b[0mcountry_unicorn\u001b[0m\u001b[1;33m.\u001b[0m\u001b[0mto_excel\u001b[0m\u001b[1;33m(\u001b[0m\u001b[1;34m'country.xlsx'\u001b[0m\u001b[1;33m)\u001b[0m\u001b[1;33m\u001b[0m\u001b[1;33m\u001b[0m\u001b[0m\n\u001b[0m",
      "\u001b[1;32mc:\\Users\\sadeo\\anaconda3\\lib\\site-packages\\pandas\\core\\generic.py\u001b[0m in \u001b[0;36mto_excel\u001b[1;34m(self, excel_writer, sheet_name, na_rep, float_format, columns, header, index, index_label, startrow, startcol, engine, merge_cells, encoding, inf_rep, verbose, freeze_panes, storage_options)\u001b[0m\n\u001b[0;32m   2282\u001b[0m             \u001b[0minf_rep\u001b[0m\u001b[1;33m=\u001b[0m\u001b[0minf_rep\u001b[0m\u001b[1;33m,\u001b[0m\u001b[1;33m\u001b[0m\u001b[1;33m\u001b[0m\u001b[0m\n\u001b[0;32m   2283\u001b[0m         )\n\u001b[1;32m-> 2284\u001b[1;33m         formatter.write(\n\u001b[0m\u001b[0;32m   2285\u001b[0m             \u001b[0mexcel_writer\u001b[0m\u001b[1;33m,\u001b[0m\u001b[1;33m\u001b[0m\u001b[1;33m\u001b[0m\u001b[0m\n\u001b[0;32m   2286\u001b[0m             \u001b[0msheet_name\u001b[0m\u001b[1;33m=\u001b[0m\u001b[0msheet_name\u001b[0m\u001b[1;33m,\u001b[0m\u001b[1;33m\u001b[0m\u001b[1;33m\u001b[0m\u001b[0m\n",
      "\u001b[1;32mc:\\Users\\sadeo\\anaconda3\\lib\\site-packages\\pandas\\io\\formats\\excel.py\u001b[0m in \u001b[0;36mwrite\u001b[1;34m(self, writer, sheet_name, startrow, startcol, freeze_panes, engine, storage_options)\u001b[0m\n\u001b[0;32m    832\u001b[0m             \u001b[1;31m# error: Cannot instantiate abstract class 'ExcelWriter' with abstract\u001b[0m\u001b[1;33m\u001b[0m\u001b[1;33m\u001b[0m\u001b[0m\n\u001b[0;32m    833\u001b[0m             \u001b[1;31m# attributes 'engine', 'save', 'supported_extensions' and 'write_cells'\u001b[0m\u001b[1;33m\u001b[0m\u001b[1;33m\u001b[0m\u001b[0m\n\u001b[1;32m--> 834\u001b[1;33m             writer = ExcelWriter(  # type: ignore[abstract]\n\u001b[0m\u001b[0;32m    835\u001b[0m                 \u001b[0mwriter\u001b[0m\u001b[1;33m,\u001b[0m \u001b[0mengine\u001b[0m\u001b[1;33m=\u001b[0m\u001b[0mengine\u001b[0m\u001b[1;33m,\u001b[0m \u001b[0mstorage_options\u001b[0m\u001b[1;33m=\u001b[0m\u001b[0mstorage_options\u001b[0m\u001b[1;33m\u001b[0m\u001b[1;33m\u001b[0m\u001b[0m\n\u001b[0;32m    836\u001b[0m             )\n",
      "\u001b[1;32mc:\\Users\\sadeo\\anaconda3\\lib\\site-packages\\pandas\\io\\excel\\_xlsxwriter.py\u001b[0m in \u001b[0;36m__init__\u001b[1;34m(self, path, engine, date_format, datetime_format, mode, storage_options, if_sheet_exists, engine_kwargs, **kwargs)\u001b[0m\n\u001b[0;32m    189\u001b[0m             \u001b[1;32mraise\u001b[0m \u001b[0mValueError\u001b[0m\u001b[1;33m(\u001b[0m\u001b[1;34m\"Append mode is not supported with xlsxwriter!\"\u001b[0m\u001b[1;33m)\u001b[0m\u001b[1;33m\u001b[0m\u001b[1;33m\u001b[0m\u001b[0m\n\u001b[0;32m    190\u001b[0m \u001b[1;33m\u001b[0m\u001b[0m\n\u001b[1;32m--> 191\u001b[1;33m         super().__init__(\n\u001b[0m\u001b[0;32m    192\u001b[0m             \u001b[0mpath\u001b[0m\u001b[1;33m,\u001b[0m\u001b[1;33m\u001b[0m\u001b[1;33m\u001b[0m\u001b[0m\n\u001b[0;32m    193\u001b[0m             \u001b[0mengine\u001b[0m\u001b[1;33m=\u001b[0m\u001b[0mengine\u001b[0m\u001b[1;33m,\u001b[0m\u001b[1;33m\u001b[0m\u001b[1;33m\u001b[0m\u001b[0m\n",
      "\u001b[1;32mc:\\Users\\sadeo\\anaconda3\\lib\\site-packages\\pandas\\io\\excel\\_base.py\u001b[0m in \u001b[0;36m__init__\u001b[1;34m(self, path, engine, date_format, datetime_format, mode, storage_options, if_sheet_exists, engine_kwargs, **kwargs)\u001b[0m\n\u001b[0;32m    923\u001b[0m         \u001b[0mself\u001b[0m\u001b[1;33m.\u001b[0m\u001b[0mhandles\u001b[0m \u001b[1;33m=\u001b[0m \u001b[0mIOHandles\u001b[0m\u001b[1;33m(\u001b[0m\u001b[0mcast\u001b[0m\u001b[1;33m(\u001b[0m\u001b[0mBuffer\u001b[0m\u001b[1;33m,\u001b[0m \u001b[0mpath\u001b[0m\u001b[1;33m)\u001b[0m\u001b[1;33m,\u001b[0m \u001b[0mcompression\u001b[0m\u001b[1;33m=\u001b[0m\u001b[1;33m{\u001b[0m\u001b[1;34m\"copression\"\u001b[0m\u001b[1;33m:\u001b[0m \u001b[1;32mNone\u001b[0m\u001b[1;33m}\u001b[0m\u001b[1;33m)\u001b[0m\u001b[1;33m\u001b[0m\u001b[1;33m\u001b[0m\u001b[0m\n\u001b[0;32m    924\u001b[0m         \u001b[1;32mif\u001b[0m \u001b[1;32mnot\u001b[0m \u001b[0misinstance\u001b[0m\u001b[1;33m(\u001b[0m\u001b[0mpath\u001b[0m\u001b[1;33m,\u001b[0m \u001b[0mExcelWriter\u001b[0m\u001b[1;33m)\u001b[0m\u001b[1;33m:\u001b[0m\u001b[1;33m\u001b[0m\u001b[1;33m\u001b[0m\u001b[0m\n\u001b[1;32m--> 925\u001b[1;33m             self.handles = get_handle(\n\u001b[0m\u001b[0;32m    926\u001b[0m                 \u001b[0mpath\u001b[0m\u001b[1;33m,\u001b[0m \u001b[0mmode\u001b[0m\u001b[1;33m,\u001b[0m \u001b[0mstorage_options\u001b[0m\u001b[1;33m=\u001b[0m\u001b[0mstorage_options\u001b[0m\u001b[1;33m,\u001b[0m \u001b[0mis_text\u001b[0m\u001b[1;33m=\u001b[0m\u001b[1;32mFalse\u001b[0m\u001b[1;33m\u001b[0m\u001b[1;33m\u001b[0m\u001b[0m\n\u001b[0;32m    927\u001b[0m             )\n",
      "\u001b[1;32mc:\\Users\\sadeo\\anaconda3\\lib\\site-packages\\pandas\\io\\common.py\u001b[0m in \u001b[0;36mget_handle\u001b[1;34m(path_or_buf, mode, encoding, compression, memory_map, is_text, errors, storage_options)\u001b[0m\n\u001b[0;32m    709\u001b[0m         \u001b[1;32melse\u001b[0m\u001b[1;33m:\u001b[0m\u001b[1;33m\u001b[0m\u001b[1;33m\u001b[0m\u001b[0m\n\u001b[0;32m    710\u001b[0m             \u001b[1;31m# Binary mode\u001b[0m\u001b[1;33m\u001b[0m\u001b[1;33m\u001b[0m\u001b[0m\n\u001b[1;32m--> 711\u001b[1;33m             \u001b[0mhandle\u001b[0m \u001b[1;33m=\u001b[0m \u001b[0mopen\u001b[0m\u001b[1;33m(\u001b[0m\u001b[0mhandle\u001b[0m\u001b[1;33m,\u001b[0m \u001b[0mioargs\u001b[0m\u001b[1;33m.\u001b[0m\u001b[0mmode\u001b[0m\u001b[1;33m)\u001b[0m\u001b[1;33m\u001b[0m\u001b[1;33m\u001b[0m\u001b[0m\n\u001b[0m\u001b[0;32m    712\u001b[0m         \u001b[0mhandles\u001b[0m\u001b[1;33m.\u001b[0m\u001b[0mappend\u001b[0m\u001b[1;33m(\u001b[0m\u001b[0mhandle\u001b[0m\u001b[1;33m)\u001b[0m\u001b[1;33m\u001b[0m\u001b[1;33m\u001b[0m\u001b[0m\n\u001b[0;32m    713\u001b[0m \u001b[1;33m\u001b[0m\u001b[0m\n",
      "\u001b[1;31mPermissionError\u001b[0m: [Errno 13] Permission denied: 'country.xlsx'"
     ]
    }
   ],
   "source": [
    "country_unicorn = df.groupby('Country').count()\n",
    "country_unicorn = country_unicorn.Company\n",
    "country_unicorn.to_excel('country.xlsx')"
   ]
  },
  {
   "cell_type": "code",
   "execution_count": null,
   "metadata": {},
   "outputs": [],
   "source": [
    "country_unicorn = df.groupby('Country').mean()\n",
    "country_unicorn = country_unicorn.Company\n",
    "country_unicorn.to_excel('country.xlsx')"
   ]
  },
  {
   "cell_type": "code",
   "execution_count": null,
   "metadata": {},
   "outputs": [],
   "source": [
    "country_unicorn = df.groupby('Country').mean()\n",
    "country_unicorn = country_unicorn.Company\n",
    "country_unicorn.to_excel('country.xlsx')"
   ]
  }
 ],
 "metadata": {
  "interpreter": {
   "hash": "cb776a8375f8b9239be053e69763f4892600dfe18133ac09a5580b4dc1bb9f8a"
  },
  "kernelspec": {
   "display_name": "Python 3.9.7 ('base')",
   "language": "python",
   "name": "python3"
  },
  "language_info": {
   "codemirror_mode": {
    "name": "ipython",
    "version": 3
   },
   "file_extension": ".py",
   "mimetype": "text/x-python",
   "name": "python",
   "nbconvert_exporter": "python",
   "pygments_lexer": "ipython3",
   "version": "3.9.7"
  },
  "orig_nbformat": 4
 },
 "nbformat": 4,
 "nbformat_minor": 2
}
