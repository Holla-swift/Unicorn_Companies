{
 "cells": [
  {
   "cell_type": "markdown",
   "metadata": {},
   "source": [
    "### Unicorn Company in the World"
   ]
  },
  {
   "cell_type": "markdown",
   "metadata": {},
   "source": [
    "###### An analysis into Unicorn companies, total funding received, city of incorporation, current valuation and some selected investors."
   ]
  },
  {
   "cell_type": "code",
   "execution_count": 2,
   "metadata": {},
   "outputs": [],
   "source": [
    "# import the neccesary libraries ....\n",
    "\n",
    "import pandas as pd\n",
    "import os\n",
    "import matplotlib.pyplot as plt\n",
    "import seaborn as sns"
   ]
  },
  {
   "cell_type": "markdown",
   "metadata": {},
   "source": [
    "###### Used Excel to check through the data, calculate through the years to become a Unicorn and calculate the ROI.\n",
    "###### All figures are in billion dollars, except ROI which is multiples"
   ]
  },
  {
   "cell_type": "code",
   "execution_count": 3,
   "metadata": {},
   "outputs": [
    {
     "data": {
      "text/html": [
       "<div>\n",
       "<style scoped>\n",
       "    .dataframe tbody tr th:only-of-type {\n",
       "        vertical-align: middle;\n",
       "    }\n",
       "\n",
       "    .dataframe tbody tr th {\n",
       "        vertical-align: top;\n",
       "    }\n",
       "\n",
       "    .dataframe thead th {\n",
       "        text-align: right;\n",
       "    }\n",
       "</style>\n",
       "<table border=\"1\" class=\"dataframe\">\n",
       "  <thead>\n",
       "    <tr style=\"text-align: right;\">\n",
       "      <th></th>\n",
       "      <th>Company</th>\n",
       "      <th>Valuation</th>\n",
       "      <th>Date Joined</th>\n",
       "      <th>Industry</th>\n",
       "      <th>City</th>\n",
       "      <th>Country</th>\n",
       "      <th>Continent</th>\n",
       "      <th>Year Founded</th>\n",
       "      <th>Funding</th>\n",
       "      <th>Select Investors</th>\n",
       "      <th>Year to be a unicorn</th>\n",
       "      <th>Return on investment</th>\n",
       "    </tr>\n",
       "  </thead>\n",
       "  <tbody>\n",
       "    <tr>\n",
       "      <th>0</th>\n",
       "      <td>Bytedance</td>\n",
       "      <td>180</td>\n",
       "      <td>07/04/2017</td>\n",
       "      <td>Artificial Intelligence</td>\n",
       "      <td>Beijing</td>\n",
       "      <td>China</td>\n",
       "      <td>Asia</td>\n",
       "      <td>2012</td>\n",
       "      <td>8</td>\n",
       "      <td>Sequoia Capital China, SIG Asia Investments, S...</td>\n",
       "      <td>5</td>\n",
       "      <td>23</td>\n",
       "    </tr>\n",
       "    <tr>\n",
       "      <th>1</th>\n",
       "      <td>SpaceX</td>\n",
       "      <td>100</td>\n",
       "      <td>01/12/2012</td>\n",
       "      <td>Other</td>\n",
       "      <td>Hawthorne</td>\n",
       "      <td>United States</td>\n",
       "      <td>North America</td>\n",
       "      <td>2002</td>\n",
       "      <td>7</td>\n",
       "      <td>Founders Fund, Draper Fisher Jurvetson, Rothen...</td>\n",
       "      <td>10</td>\n",
       "      <td>14</td>\n",
       "    </tr>\n",
       "  </tbody>\n",
       "</table>\n",
       "</div>"
      ],
      "text/plain": [
       "     Company  Valuation Date Joined                 Industry       City  \\\n",
       "0  Bytedance        180  07/04/2017  Artificial Intelligence    Beijing   \n",
       "1     SpaceX        100  01/12/2012                    Other  Hawthorne   \n",
       "\n",
       "         Country      Continent  Year Founded  Funding  \\\n",
       "0          China           Asia          2012        8   \n",
       "1  United States  North America          2002        7   \n",
       "\n",
       "                                    Select Investors  Year to be a unicorn  \\\n",
       "0  Sequoia Capital China, SIG Asia Investments, S...                     5   \n",
       "1  Founders Fund, Draper Fisher Jurvetson, Rothen...                    10   \n",
       "\n",
       "   Return on investment  \n",
       "0                    23  \n",
       "1                    14  "
      ]
     },
     "execution_count": 3,
     "metadata": {},
     "output_type": "execute_result"
    }
   ],
   "source": [
    "working_directory = os.getcwd()\n",
    "path = working_directory + '/Unicorn_Companies.csv'\n",
    "df = pd.read_csv(path)\n",
    "df.head(2)"
   ]
  },
  {
   "cell_type": "code",
   "execution_count": 4,
   "metadata": {},
   "outputs": [
    {
     "name": "stdout",
     "output_type": "stream",
     "text": [
      "<class 'pandas.core.frame.DataFrame'>\n",
      "RangeIndex: 1074 entries, 0 to 1073\n",
      "Data columns (total 12 columns):\n",
      " #   Column                Non-Null Count  Dtype \n",
      "---  ------                --------------  ----- \n",
      " 0   Company               1074 non-null   object\n",
      " 1   Valuation             1074 non-null   int64 \n",
      " 2   Date Joined           1074 non-null   object\n",
      " 3   Industry              1074 non-null   object\n",
      " 4   City                  1058 non-null   object\n",
      " 5   Country               1074 non-null   object\n",
      " 6   Continent             1074 non-null   object\n",
      " 7   Year Founded          1074 non-null   int64 \n",
      " 8   Funding               1074 non-null   int64 \n",
      " 9   Select Investors      1073 non-null   object\n",
      " 10  Year to be a unicorn  1074 non-null   int64 \n",
      " 11  Return on investment  1074 non-null   int64 \n",
      "dtypes: int64(5), object(7)\n",
      "memory usage: 100.8+ KB\n"
     ]
    }
   ],
   "source": [
    "df.info()"
   ]
  },
  {
   "cell_type": "code",
   "execution_count": 5,
   "metadata": {},
   "outputs": [
    {
     "data": {
      "text/plain": [
       "(1074, 12)"
      ]
     },
     "execution_count": 5,
     "metadata": {},
     "output_type": "execute_result"
    }
   ],
   "source": [
    "df.shape"
   ]
  },
  {
   "cell_type": "code",
   "execution_count": 6,
   "metadata": {},
   "outputs": [
    {
     "name": "stderr",
     "output_type": "stream",
     "text": [
      "C:\\Users\\sadeo\\AppData\\Local\\Temp/ipykernel_760/3698961737.py:1: FutureWarning: Dropping of nuisance columns in DataFrame reductions (with 'numeric_only=None') is deprecated; in a future version this will raise TypeError.  Select only valid columns before calling the reduction.\n",
      "  df.mean()\n"
     ]
    },
    {
     "data": {
      "text/plain": [
       "Valuation                  3.455307\n",
       "Year Founded            2012.895717\n",
       "Funding                    0.507449\n",
       "Year to be a unicorn       7.000931\n",
       "Return on investment       1.667598\n",
       "dtype: float64"
      ]
     },
     "execution_count": 6,
     "metadata": {},
     "output_type": "execute_result"
    }
   ],
   "source": [
    "df.mean()"
   ]
  },
  {
   "cell_type": "code",
   "execution_count": 110,
   "metadata": {},
   "outputs": [
    {
     "name": "stderr",
     "output_type": "stream",
     "text": [
      "C:\\Users\\sadeo\\AppData\\Local\\Temp/ipykernel_760/1613151495.py:1: FutureWarning: Dropping of nuisance columns in DataFrame reductions (with 'numeric_only=None') is deprecated; in a future version this will raise TypeError.  Select only valid columns before calling the reduction.\n",
      "  df.sum()[8]\n"
     ]
    },
    {
     "data": {
      "text/plain": [
       "1791"
      ]
     },
     "execution_count": 110,
     "metadata": {},
     "output_type": "execute_result"
    }
   ],
   "source": [
    "# Total funding received by Unicorns\n",
    "\n",
    "df.sum()[8]"
   ]
  },
  {
   "cell_type": "code",
   "execution_count": 7,
   "metadata": {},
   "outputs": [
    {
     "data": {
      "text/html": [
       "<div>\n",
       "<style scoped>\n",
       "    .dataframe tbody tr th:only-of-type {\n",
       "        vertical-align: middle;\n",
       "    }\n",
       "\n",
       "    .dataframe tbody tr th {\n",
       "        vertical-align: top;\n",
       "    }\n",
       "\n",
       "    .dataframe thead th {\n",
       "        text-align: right;\n",
       "    }\n",
       "</style>\n",
       "<table border=\"1\" class=\"dataframe\">\n",
       "  <thead>\n",
       "    <tr style=\"text-align: right;\">\n",
       "      <th></th>\n",
       "      <th>Company</th>\n",
       "      <th>Valuation</th>\n",
       "      <th>Date_Joined</th>\n",
       "      <th>Industry</th>\n",
       "      <th>City</th>\n",
       "      <th>Country</th>\n",
       "      <th>Continent</th>\n",
       "      <th>Year_Founded</th>\n",
       "      <th>Funding</th>\n",
       "      <th>Select_Investors</th>\n",
       "      <th>Year_to_be_a_unicorn</th>\n",
       "      <th>Return_on_investment</th>\n",
       "    </tr>\n",
       "  </thead>\n",
       "  <tbody>\n",
       "    <tr>\n",
       "      <th>1073</th>\n",
       "      <td>Zwift</td>\n",
       "      <td>1</td>\n",
       "      <td>16/09/2020</td>\n",
       "      <td>E-commerce &amp; direct-to-consumer</td>\n",
       "      <td>Long Beach</td>\n",
       "      <td>United States</td>\n",
       "      <td>North America</td>\n",
       "      <td>2014</td>\n",
       "      <td>1</td>\n",
       "      <td>Novator Partners, True, Causeway Media Partners</td>\n",
       "      <td>6</td>\n",
       "      <td>1</td>\n",
       "    </tr>\n",
       "  </tbody>\n",
       "</table>\n",
       "</div>"
      ],
      "text/plain": [
       "     Company  Valuation Date_Joined                         Industry  \\\n",
       "1073   Zwift          1  16/09/2020  E-commerce & direct-to-consumer   \n",
       "\n",
       "            City        Country      Continent  Year_Founded  Funding  \\\n",
       "1073  Long Beach  United States  North America          2014        1   \n",
       "\n",
       "                                     Select_Investors  Year_to_be_a_unicorn  \\\n",
       "1073  Novator Partners, True, Causeway Media Partners                     6   \n",
       "\n",
       "      Return_on_investment  \n",
       "1073                     1  "
      ]
     },
     "execution_count": 7,
     "metadata": {},
     "output_type": "execute_result"
    }
   ],
   "source": [
    "# rename the columns for with space using underscore, for easy access\n",
    "\n",
    "df.columns = df.columns.str.replace(' ', '_')\n",
    "df.tail(1)"
   ]
  },
  {
   "cell_type": "code",
   "execution_count": 8,
   "metadata": {},
   "outputs": [
    {
     "data": {
      "text/html": [
       "<div>\n",
       "<style scoped>\n",
       "    .dataframe tbody tr th:only-of-type {\n",
       "        vertical-align: middle;\n",
       "    }\n",
       "\n",
       "    .dataframe tbody tr th {\n",
       "        vertical-align: top;\n",
       "    }\n",
       "\n",
       "    .dataframe thead th {\n",
       "        text-align: right;\n",
       "    }\n",
       "</style>\n",
       "<table border=\"1\" class=\"dataframe\">\n",
       "  <thead>\n",
       "    <tr style=\"text-align: right;\">\n",
       "      <th></th>\n",
       "      <th>Company</th>\n",
       "      <th>Valuation</th>\n",
       "      <th>Date_Joined</th>\n",
       "      <th>Industry</th>\n",
       "      <th>City</th>\n",
       "      <th>Country</th>\n",
       "      <th>Continent</th>\n",
       "      <th>Year_Founded</th>\n",
       "      <th>Funding</th>\n",
       "      <th>Select_Investors</th>\n",
       "      <th>Year_to_be_a_unicorn</th>\n",
       "      <th>Return_on_investment</th>\n",
       "    </tr>\n",
       "  </thead>\n",
       "  <tbody>\n",
       "    <tr>\n",
       "      <th>0</th>\n",
       "      <td>Bytedance</td>\n",
       "      <td>180</td>\n",
       "      <td>2017-07-04</td>\n",
       "      <td>Artificial Intelligence</td>\n",
       "      <td>Beijing</td>\n",
       "      <td>China</td>\n",
       "      <td>Asia</td>\n",
       "      <td>2012</td>\n",
       "      <td>8</td>\n",
       "      <td>Sequoia Capital China, SIG Asia Investments, S...</td>\n",
       "      <td>5</td>\n",
       "      <td>23</td>\n",
       "    </tr>\n",
       "    <tr>\n",
       "      <th>1</th>\n",
       "      <td>SpaceX</td>\n",
       "      <td>100</td>\n",
       "      <td>2012-01-12</td>\n",
       "      <td>Other</td>\n",
       "      <td>Hawthorne</td>\n",
       "      <td>United States</td>\n",
       "      <td>North America</td>\n",
       "      <td>2002</td>\n",
       "      <td>7</td>\n",
       "      <td>Founders Fund, Draper Fisher Jurvetson, Rothen...</td>\n",
       "      <td>10</td>\n",
       "      <td>14</td>\n",
       "    </tr>\n",
       "  </tbody>\n",
       "</table>\n",
       "</div>"
      ],
      "text/plain": [
       "     Company  Valuation Date_Joined                 Industry       City  \\\n",
       "0  Bytedance        180  2017-07-04  Artificial Intelligence    Beijing   \n",
       "1     SpaceX        100  2012-01-12                    Other  Hawthorne   \n",
       "\n",
       "         Country      Continent  Year_Founded  Funding  \\\n",
       "0          China           Asia          2012        8   \n",
       "1  United States  North America          2002        7   \n",
       "\n",
       "                                    Select_Investors  Year_to_be_a_unicorn  \\\n",
       "0  Sequoia Capital China, SIG Asia Investments, S...                     5   \n",
       "1  Founders Fund, Draper Fisher Jurvetson, Rothen...                    10   \n",
       "\n",
       "   Return_on_investment  \n",
       "0                    23  \n",
       "1                    14  "
      ]
     },
     "execution_count": 8,
     "metadata": {},
     "output_type": "execute_result"
    }
   ],
   "source": [
    "df['Date_Joined'] = pd.to_datetime(df['Date_Joined'])\n",
    "df.head(2)"
   ]
  },
  {
   "cell_type": "code",
   "execution_count": 9,
   "metadata": {},
   "outputs": [
    {
     "data": {
      "image/png": "[encoded data removed]",
      "text/plain": [
       "<Figure size 432x288 with 1 Axes>"
      ]
     },
     "metadata": {
      "needs_background": "light"
     },
     "output_type": "display_data"
    }
   ],
   "source": [
    "plt.scatter(df.Valuation, df.Funding)\n",
    "plt.show()"
   ]
  },
  {
   "cell_type": "markdown",
   "metadata": {},
   "source": [
    "#### Industries and No of Unicorns"
   ]
  },
  {
   "cell_type": "code",
   "execution_count": 10,
   "metadata": {},
   "outputs": [
    {
     "data": {
      "text/plain": [
       "['Consumer & retail',\n",
       " 'Hardware',\n",
       " 'Other',\n",
       " 'Artificial Intelligence',\n",
       " 'Fintech',\n",
       " 'Auto & transportation',\n",
       " 'Health',\n",
       " 'E-commerce & direct-to-consumer',\n",
       " 'Supply chain, logistics, & delivery',\n",
       " 'Cybersecurity',\n",
       " 'Mobile & telecommunications',\n",
       " 'Edtech',\n",
       " 'Travel',\n",
       " 'Data management & analytics',\n",
       " 'Internet software & services']"
      ]
     },
     "execution_count": 10,
     "metadata": {},
     "output_type": "execute_result"
    }
   ],
   "source": [
    "list(set(df.Country))\n",
    "list(set(df.Industry))"
   ]
  },
  {
   "cell_type": "code",
   "execution_count": 11,
   "metadata": {},
   "outputs": [
    {
     "data": {
      "text/plain": [
       "Industry\n",
       "Fintech                                224\n",
       "Internet software & services           205\n",
       "E-commerce & direct-to-consumer        111\n",
       "Artificial Intelligence                 84\n",
       "Health                                  74\n",
       "Other                                   58\n",
       "Supply chain, logistics, & delivery     57\n",
       "Cybersecurity                           50\n",
       "Data management & analytics             41\n",
       "Mobile & telecommunications             38\n",
       "Hardware                                34\n",
       "Auto & transportation                   31\n",
       "Edtech                                  28\n",
       "Consumer & retail                       25\n",
       "Travel                                  14\n",
       "Name: Company, dtype: int64"
      ]
     },
     "execution_count": 11,
     "metadata": {},
     "output_type": "execute_result"
    }
   ],
   "source": [
    "# Industry classification of Unicorns\n",
    "\n",
    "Industy_unicorn = df.groupby('Industry').count()\n",
    "Industy_unicorn = Industy_unicorn.sort_values(by='Company', ascending=False)\n",
    "Industy_unicorn.Company"
   ]
  },
  {
   "cell_type": "code",
   "execution_count": 12,
   "metadata": {},
   "outputs": [
    {
     "data": {
      "text/plain": [
       "Text(0.5, 0, 'No of Unicorns')"
      ]
     },
     "execution_count": 12,
     "metadata": {},
     "output_type": "execute_result"
    },
    {
     "data": {
      "image/png": "[encoded data removed]",
      "text/plain": [
       "<Figure size 432x288 with 1 Axes>"
      ]
     },
     "metadata": {
      "needs_background": "light"
     },
     "output_type": "display_data"
    }
   ],
   "source": [
    "# Graphical illustration\n",
    "\n",
    "ax = sns.barplot(data = Industy_unicorn, x=Industy_unicorn.Company, y= Industy_unicorn.index, orient='horizontal')\n",
    "ax.set_title('Sectorial distribution of Unicorns', size=18)\n",
    "ax.set_xlabel('No of Unicorns')\n"
   ]
  },
  {
   "cell_type": "markdown",
   "metadata": {},
   "source": [
    "##### Analyse the industry with the fastest chance to become a Unicorn as well as the associated returns on investment"
   ]
  },
  {
   "cell_type": "code",
   "execution_count": 13,
   "metadata": {},
   "outputs": [
    {
     "data": {
      "text/html": [
       "<div>\n",
       "<style scoped>\n",
       "    .dataframe tbody tr th:only-of-type {\n",
       "        vertical-align: middle;\n",
       "    }\n",
       "\n",
       "    .dataframe tbody tr th {\n",
       "        vertical-align: top;\n",
       "    }\n",
       "\n",
       "    .dataframe thead th {\n",
       "        text-align: right;\n",
       "    }\n",
       "</style>\n",
       "<table border=\"1\" class=\"dataframe\">\n",
       "  <thead>\n",
       "    <tr style=\"text-align: right;\">\n",
       "      <th></th>\n",
       "      <th>Valuation</th>\n",
       "      <th>Year_Founded</th>\n",
       "      <th>Funding</th>\n",
       "      <th>Year_to_be_a_unicorn</th>\n",
       "      <th>Return_on_investment</th>\n",
       "    </tr>\n",
       "    <tr>\n",
       "      <th>Industry</th>\n",
       "      <th></th>\n",
       "      <th></th>\n",
       "      <th></th>\n",
       "      <th></th>\n",
       "      <th></th>\n",
       "    </tr>\n",
       "  </thead>\n",
       "  <tbody>\n",
       "    <tr>\n",
       "      <th>Health</th>\n",
       "      <td>2.675676</td>\n",
       "      <td>2011.878378</td>\n",
       "      <td>0.418919</td>\n",
       "      <td>8.189189</td>\n",
       "      <td>1.716216</td>\n",
       "    </tr>\n",
       "    <tr>\n",
       "      <th>Consumer &amp; retail</th>\n",
       "      <td>4.240000</td>\n",
       "      <td>2010.320000</td>\n",
       "      <td>1.040000</td>\n",
       "      <td>8.080000</td>\n",
       "      <td>1.840000</td>\n",
       "    </tr>\n",
       "    <tr>\n",
       "      <th>Data management &amp; analytics</th>\n",
       "      <td>3.317073</td>\n",
       "      <td>2012.073171</td>\n",
       "      <td>0.317073</td>\n",
       "      <td>8.073171</td>\n",
       "      <td>1.414634</td>\n",
       "    </tr>\n",
       "    <tr>\n",
       "      <th>Internet software &amp; services</th>\n",
       "      <td>2.902439</td>\n",
       "      <td>2012.531707</td>\n",
       "      <td>0.287805</td>\n",
       "      <td>7.868293</td>\n",
       "      <td>1.351220</td>\n",
       "    </tr>\n",
       "    <tr>\n",
       "      <th>Other</th>\n",
       "      <td>4.344828</td>\n",
       "      <td>2011.844828</td>\n",
       "      <td>0.672414</td>\n",
       "      <td>7.775862</td>\n",
       "      <td>1.189655</td>\n",
       "    </tr>\n",
       "    <tr>\n",
       "      <th>Edtech</th>\n",
       "      <td>3.571429</td>\n",
       "      <td>2011.535714</td>\n",
       "      <td>0.750000</td>\n",
       "      <td>7.714286</td>\n",
       "      <td>1.500000</td>\n",
       "    </tr>\n",
       "    <tr>\n",
       "      <th>Supply chain, logistics, &amp; delivery</th>\n",
       "      <td>3.105263</td>\n",
       "      <td>2013.035088</td>\n",
       "      <td>0.754386</td>\n",
       "      <td>6.929825</td>\n",
       "      <td>1.421053</td>\n",
       "    </tr>\n",
       "    <tr>\n",
       "      <th>Cybersecurity</th>\n",
       "      <td>2.580000</td>\n",
       "      <td>2013.600000</td>\n",
       "      <td>0.440000</td>\n",
       "      <td>6.800000</td>\n",
       "      <td>1.700000</td>\n",
       "    </tr>\n",
       "    <tr>\n",
       "      <th>Travel</th>\n",
       "      <td>3.285714</td>\n",
       "      <td>2012.214286</td>\n",
       "      <td>1.071429</td>\n",
       "      <td>6.571429</td>\n",
       "      <td>2.357143</td>\n",
       "    </tr>\n",
       "    <tr>\n",
       "      <th>Fintech</th>\n",
       "      <td>3.937500</td>\n",
       "      <td>2013.977679</td>\n",
       "      <td>0.441964</td>\n",
       "      <td>6.544643</td>\n",
       "      <td>2.098214</td>\n",
       "    </tr>\n",
       "    <tr>\n",
       "      <th>E-commerce &amp; direct-to-consumer</th>\n",
       "      <td>3.837838</td>\n",
       "      <td>2012.801802</td>\n",
       "      <td>0.657658</td>\n",
       "      <td>6.432432</td>\n",
       "      <td>2.018018</td>\n",
       "    </tr>\n",
       "    <tr>\n",
       "      <th>Mobile &amp; telecommunications</th>\n",
       "      <td>2.342105</td>\n",
       "      <td>2012.078947</td>\n",
       "      <td>0.315789</td>\n",
       "      <td>6.315789</td>\n",
       "      <td>1.184211</td>\n",
       "    </tr>\n",
       "    <tr>\n",
       "      <th>Hardware</th>\n",
       "      <td>2.911765</td>\n",
       "      <td>2012.882353</td>\n",
       "      <td>0.617647</td>\n",
       "      <td>5.941176</td>\n",
       "      <td>1.529412</td>\n",
       "    </tr>\n",
       "    <tr>\n",
       "      <th>Artificial Intelligence</th>\n",
       "      <td>4.488095</td>\n",
       "      <td>2013.892857</td>\n",
       "      <td>0.440476</td>\n",
       "      <td>5.892857</td>\n",
       "      <td>1.464286</td>\n",
       "    </tr>\n",
       "    <tr>\n",
       "      <th>Auto &amp; transportation</th>\n",
       "      <td>3.193548</td>\n",
       "      <td>2013.838710</td>\n",
       "      <td>1.096774</td>\n",
       "      <td>5.032258</td>\n",
       "      <td>1.903226</td>\n",
       "    </tr>\n",
       "  </tbody>\n",
       "</table>\n",
       "</div>"
      ],
      "text/plain": [
       "                                     Valuation  Year_Founded   Funding  \\\n",
       "Industry                                                                 \n",
       "Health                                2.675676   2011.878378  0.418919   \n",
       "Consumer & retail                     4.240000   2010.320000  1.040000   \n",
       "Data management & analytics           3.317073   2012.073171  0.317073   \n",
       "Internet software & services          2.902439   2012.531707  0.287805   \n",
       "Other                                 4.344828   2011.844828  0.672414   \n",
       "Edtech                                3.571429   2011.535714  0.750000   \n",
       "Supply chain, logistics, & delivery   3.105263   2013.035088  0.754386   \n",
       "Cybersecurity                         2.580000   2013.600000  0.440000   \n",
       "Travel                                3.285714   2012.214286  1.071429   \n",
       "Fintech                               3.937500   2013.977679  0.441964   \n",
       "E-commerce & direct-to-consumer       3.837838   2012.801802  0.657658   \n",
       "Mobile & telecommunications           2.342105   2012.078947  0.315789   \n",
       "Hardware                              2.911765   2012.882353  0.617647   \n",
       "Artificial Intelligence               4.488095   2013.892857  0.440476   \n",
       "Auto & transportation                 3.193548   2013.838710  1.096774   \n",
       "\n",
       "                                     Year_to_be_a_unicorn  \\\n",
       "Industry                                                    \n",
       "Health                                           8.189189   \n",
       "Consumer & retail                                8.080000   \n",
       "Data management & analytics                      8.073171   \n",
       "Internet software & services                     7.868293   \n",
       "Other                                            7.775862   \n",
       "Edtech                                           7.714286   \n",
       "Supply chain, logistics, & delivery              6.929825   \n",
       "Cybersecurity                                    6.800000   \n",
       "Travel                                           6.571429   \n",
       "Fintech                                          6.544643   \n",
       "E-commerce & direct-to-consumer                  6.432432   \n",
       "Mobile & telecommunications                      6.315789   \n",
       "Hardware                                         5.941176   \n",
       "Artificial Intelligence                          5.892857   \n",
       "Auto & transportation                            5.032258   \n",
       "\n",
       "                                     Return_on_investment  \n",
       "Industry                                                   \n",
       "Health                                           1.716216  \n",
       "Consumer & retail                                1.840000  \n",
       "Data management & analytics                      1.414634  \n",
       "Internet software & services                     1.351220  \n",
       "Other                                            1.189655  \n",
       "Edtech                                           1.500000  \n",
       "Supply chain, logistics, & delivery              1.421053  \n",
       "Cybersecurity                                    1.700000  \n",
       "Travel                                           2.357143  \n",
       "Fintech                                          2.098214  \n",
       "E-commerce & direct-to-consumer                  2.018018  \n",
       "Mobile & telecommunications                      1.184211  \n",
       "Hardware                                         1.529412  \n",
       "Artificial Intelligence                          1.464286  \n",
       "Auto & transportation                            1.903226  "
      ]
     },
     "execution_count": 13,
     "metadata": {},
     "output_type": "execute_result"
    }
   ],
   "source": [
    "# calculating the years it takes to becoming a unicorn\n",
    "\n",
    "Years_unicorn = df.groupby('Industry').mean()\n",
    "Years_unicorn = Years_unicorn.loc[:]\n",
    "Years_unicorn= Years_unicorn.sort_values(by='Year_to_be_a_unicorn', ascending=False)\n",
    "Years_unicorn"
   ]
  },
  {
   "cell_type": "code",
   "execution_count": 14,
   "metadata": {},
   "outputs": [
    {
     "data": {
      "text/plain": [
       "(array([0., 1., 2., 3., 4., 5., 6., 7., 8., 9.]),\n",
       " [Text(0, 0, ''),\n",
       "  Text(0, 0, ''),\n",
       "  Text(0, 0, ''),\n",
       "  Text(0, 0, ''),\n",
       "  Text(0, 0, ''),\n",
       "  Text(0, 0, ''),\n",
       "  Text(0, 0, ''),\n",
       "  Text(0, 0, ''),\n",
       "  Text(0, 0, ''),\n",
       "  Text(0, 0, '')])"
      ]
     },
     "execution_count": 14,
     "metadata": {},
     "output_type": "execute_result"
    },
    {
     "data": {
      "image/png": "[encoded data removed]",
      "text/plain": [
       "<Figure size 432x288 with 1 Axes>"
      ]
     },
     "metadata": {
      "needs_background": "light"
     },
     "output_type": "display_data"
    }
   ],
   "source": [
    "# Graphical illustration\n",
    "colors = sns.color_palette(\"crest\")\n",
    "\n",
    "plt.barh(Years_unicorn.index, Years_unicorn.Year_to_be_a_unicorn, color=colors)\n",
    "plt.title('Number of years to become a Unicorn per Sector', size=16)\n",
    "plt.xlabel('No of years')\n",
    "plt.xticks(rotation='vertical', size=12)\n"
   ]
  },
  {
   "cell_type": "markdown",
   "metadata": {},
   "source": [
    "##### Investment and returns by sectors"
   ]
  },
  {
   "cell_type": "code",
   "execution_count": 16,
   "metadata": {},
   "outputs": [
    {
     "name": "stderr",
     "output_type": "stream",
     "text": [
      "C:\\Users\\sadeo\\AppData\\Local\\Temp/ipykernel_760/1564072878.py:17: UserWarning: FixedFormatter should only be used together with FixedLocator\n",
      "  ax1.set_xticklabels(keys, rotation='vertical', size=10)\n",
      "C:\\Users\\sadeo\\AppData\\Local\\Temp/ipykernel_760/1564072878.py:20: UserWarning: Matplotlib is currently using module://matplotlib_inline.backend_inline, which is a non-GUI backend, so cannot show the figure.\n",
      "  fig.show()\n"
     ]
    },
    {
     "data": {
      "image/png": "[encoded data removed]",
      "text/plain": [
       "<Figure size 432x288 with 2 Axes>"
      ]
     },
     "metadata": {
      "needs_background": "light"
     },
     "output_type": "display_data"
    }
   ],
   "source": [
    "%matplotlib inline \n",
    "\n",
    "Years_unicorn1 = Years_unicorn.sort_values(by='Funding', ascending=False)\n",
    "\n",
    "keys = Years_unicorn1.index\n",
    "colors = sns.color_palette('Accent')\n",
    "\n",
    "fig, ax1 = plt.subplots()\n",
    "\n",
    "ax2 = ax1.twinx()\n",
    "ax1.bar(keys, Years_unicorn1.Funding*1000, color=colors)\n",
    "ax2.plot(keys, Years_unicorn1.Return_on_investment, color='red')\n",
    "\n",
    "ax1.set_xlabel('Industry')\n",
    "ax1.set_ylabel('Avg Funding ($ millions)', color='black')\n",
    "ax2.set_ylabel('ROI (x)', color='red')\n",
    "ax1.set_xticklabels(keys, rotation='vertical', size=10)\n",
    "ax1.set_title('Unicorn funding and Return on Investment', size=16)\n",
    "\n",
    "fig.show()\n"
   ]
  },
  {
   "cell_type": "code",
   "execution_count": 17,
   "metadata": {},
   "outputs": [
    {
     "name": "stderr",
     "output_type": "stream",
     "text": [
      "C:\\Users\\sadeo\\AppData\\Local\\Temp/ipykernel_760/2558073827.py:16: UserWarning: FixedFormatter should only be used together with FixedLocator\n",
      "  ax1.set_xticklabels(keys, rotation='vertical', size=10)\n",
      "C:\\Users\\sadeo\\AppData\\Local\\Temp/ipykernel_760/2558073827.py:19: UserWarning: Matplotlib is currently using module://matplotlib_inline.backend_inline, which is a non-GUI backend, so cannot show the figure.\n",
      "  fig.show()\n"
     ]
    },
    {
     "data": {
      "image/png": "[encoded data removed]",
      "text/plain": [
       "<Figure size 432x288 with 2 Axes>"
      ]
     },
     "metadata": {
      "needs_background": "light"
     },
     "output_type": "display_data"
    }
   ],
   "source": [
    "%matplotlib inline \n",
    "\n",
    "Years_unicorn1 = Years_unicorn.sort_values(by='Funding', ascending=True)\n",
    "\n",
    "keys = Years_unicorn1.index\n",
    "colors = sns.color_palette('Accent')\n",
    "\n",
    "fig, ax1 = plt.subplots()\n",
    "\n",
    "ax2 = ax1.twinx()\n",
    "ax1.bar(keys, Years_unicorn1.Funding*1000, color=colors)\n",
    "ax2.plot(keys, Years_unicorn1.Valuation, color='red')\n",
    "\n",
    "ax1.set_ylabel('Avg Funding ($ millions)', color='black')\n",
    "ax2.set_ylabel('Current Valuation ($ millions)', color='red')\n",
    "ax1.set_xticklabels(keys, rotation='vertical', size=10)\n",
    "ax1.set_title('Current Valuation and funding ($ millions)', size=16)\n",
    "\n",
    "fig.show()"
   ]
  },
  {
   "cell_type": "markdown",
   "metadata": {},
   "source": [
    "#### Country Unicorn Analysis"
   ]
  },
  {
   "cell_type": "markdown",
   "metadata": {},
   "source": [
    "Country analysis will be executed here while visualisations will be explored in Tableau"
   ]
  },
  {
   "cell_type": "code",
   "execution_count": 30,
   "metadata": {},
   "outputs": [
    {
     "data": {
      "text/plain": [
       "Country\n",
       "United States           562\n",
       "China                   173\n",
       "India                    65\n",
       "United Kingdom           43\n",
       "Germany                  26\n",
       "France                   24\n",
       "Israel                   20\n",
       "Canada                   19\n",
       "Brazil                   16\n",
       "South Korea              12\n",
       "Singapore                12\n",
       "Australia                 8\n",
       "Netherlands               6\n",
       "Mexico                    6\n",
       "Hong Kong                 6\n",
       "Sweden                    6\n",
       "Indonesia                 6\n",
       "Japan                     5\n",
       "Ireland                   5\n",
       "Switzerland               5\n",
       "Norway                    4\n",
       "Finland                   4\n",
       "Spain                     3\n",
       "United Arab Emirates      3\n",
       "Turkey                    3\n",
       "Belgium                   3\n",
       "Thailand                  2\n",
       "Chile                     2\n",
       "South Africa              2\n",
       "Colombia                  2\n",
       "Estonia                   2\n",
       "Denmark                   2\n",
       "Philippines               2\n",
       "Austria                   2\n",
       "Vietnam                   2\n",
       "Argentina                 1\n",
       "Senegal                   1\n",
       "Nigeria                   1\n",
       "Malaysia                  1\n",
       "Luxembourg                1\n",
       "Lithuania                 1\n",
       "Czech Republic            1\n",
       "Croatia                   1\n",
       "Bermuda                   1\n",
       "Bahamas                   1\n",
       "Italy                     1\n",
       "Name: Company, dtype: int64"
      ]
     },
     "execution_count": 30,
     "metadata": {},
     "output_type": "execute_result"
    }
   ],
   "source": [
    "country_unicorn = df.groupby('Country').count()\n",
    "country_unicorn = country_unicorn.sort_values(by='Valuation', ascending=False)\n",
    "country_unicorn = country_unicorn.Company\n",
    "country_unicorn"
   ]
  },
  {
   "cell_type": "code",
   "execution_count": 32,
   "metadata": {},
   "outputs": [
    {
     "data": {
      "text/html": [
       "<div>\n",
       "<style scoped>\n",
       "    .dataframe tbody tr th:only-of-type {\n",
       "        vertical-align: middle;\n",
       "    }\n",
       "\n",
       "    .dataframe tbody tr th {\n",
       "        vertical-align: top;\n",
       "    }\n",
       "\n",
       "    .dataframe thead th {\n",
       "        text-align: right;\n",
       "    }\n",
       "</style>\n",
       "<table border=\"1\" class=\"dataframe\">\n",
       "  <thead>\n",
       "    <tr style=\"text-align: right;\">\n",
       "      <th></th>\n",
       "      <th>Valuation</th>\n",
       "      <th>Year_Founded</th>\n",
       "      <th>Funding</th>\n",
       "      <th>Year_to_be_a_unicorn</th>\n",
       "      <th>Return_on_investment</th>\n",
       "    </tr>\n",
       "    <tr>\n",
       "      <th>Country</th>\n",
       "      <th></th>\n",
       "      <th></th>\n",
       "      <th></th>\n",
       "      <th></th>\n",
       "      <th></th>\n",
       "    </tr>\n",
       "  </thead>\n",
       "  <tbody>\n",
       "    <tr>\n",
       "      <th>Argentina</th>\n",
       "      <td>2.000000</td>\n",
       "      <td>2017.000000</td>\n",
       "      <td>1.000000</td>\n",
       "      <td>4.000000</td>\n",
       "      <td>2.000000</td>\n",
       "    </tr>\n",
       "    <tr>\n",
       "      <th>Australia</th>\n",
       "      <td>7.000000</td>\n",
       "      <td>2012.750000</td>\n",
       "      <td>0.250000</td>\n",
       "      <td>7.875000</td>\n",
       "      <td>5.750000</td>\n",
       "    </tr>\n",
       "    <tr>\n",
       "      <th>Austria</th>\n",
       "      <td>3.500000</td>\n",
       "      <td>2015.500000</td>\n",
       "      <td>1.000000</td>\n",
       "      <td>5.500000</td>\n",
       "      <td>3.500000</td>\n",
       "    </tr>\n",
       "    <tr>\n",
       "      <th>Bahamas</th>\n",
       "      <td>32.000000</td>\n",
       "      <td>2018.000000</td>\n",
       "      <td>2.000000</td>\n",
       "      <td>3.000000</td>\n",
       "      <td>16.000000</td>\n",
       "    </tr>\n",
       "    <tr>\n",
       "      <th>Belgium</th>\n",
       "      <td>2.666667</td>\n",
       "      <td>2010.333333</td>\n",
       "      <td>0.333333</td>\n",
       "      <td>10.333333</td>\n",
       "      <td>1.666667</td>\n",
       "    </tr>\n",
       "    <tr>\n",
       "      <th>Bermuda</th>\n",
       "      <td>2.000000</td>\n",
       "      <td>2006.000000</td>\n",
       "      <td>0.000000</td>\n",
       "      <td>11.000000</td>\n",
       "      <td>0.000000</td>\n",
       "    </tr>\n",
       "    <tr>\n",
       "      <th>Brazil</th>\n",
       "      <td>2.312500</td>\n",
       "      <td>2012.062500</td>\n",
       "      <td>0.687500</td>\n",
       "      <td>7.937500</td>\n",
       "      <td>1.562500</td>\n",
       "    </tr>\n",
       "    <tr>\n",
       "      <th>Canada</th>\n",
       "      <td>2.578947</td>\n",
       "      <td>2011.105263</td>\n",
       "      <td>0.315789</td>\n",
       "      <td>10.000000</td>\n",
       "      <td>1.368421</td>\n",
       "    </tr>\n",
       "    <tr>\n",
       "      <th>Chile</th>\n",
       "      <td>1.500000</td>\n",
       "      <td>2016.500000</td>\n",
       "      <td>0.000000</td>\n",
       "      <td>5.000000</td>\n",
       "      <td>0.000000</td>\n",
       "    </tr>\n",
       "    <tr>\n",
       "      <th>China</th>\n",
       "      <td>4.023121</td>\n",
       "      <td>2012.658960</td>\n",
       "      <td>0.612717</td>\n",
       "      <td>5.797688</td>\n",
       "      <td>1.751445</td>\n",
       "    </tr>\n",
       "    <tr>\n",
       "      <th>Colombia</th>\n",
       "      <td>3.000000</td>\n",
       "      <td>2013.000000</td>\n",
       "      <td>1.000000</td>\n",
       "      <td>3.500000</td>\n",
       "      <td>1.500000</td>\n",
       "    </tr>\n",
       "    <tr>\n",
       "      <th>Croatia</th>\n",
       "      <td>1.000000</td>\n",
       "      <td>2006.000000</td>\n",
       "      <td>0.000000</td>\n",
       "      <td>14.000000</td>\n",
       "      <td>0.000000</td>\n",
       "    </tr>\n",
       "    <tr>\n",
       "      <th>Czech Republic</th>\n",
       "      <td>1.000000</td>\n",
       "      <td>2019.000000</td>\n",
       "      <td>0.000000</td>\n",
       "      <td>2.000000</td>\n",
       "      <td>0.000000</td>\n",
       "    </tr>\n",
       "    <tr>\n",
       "      <th>Denmark</th>\n",
       "      <td>3.500000</td>\n",
       "      <td>2015.000000</td>\n",
       "      <td>0.000000</td>\n",
       "      <td>6.000000</td>\n",
       "      <td>0.000000</td>\n",
       "    </tr>\n",
       "    <tr>\n",
       "      <th>Estonia</th>\n",
       "      <td>6.500000</td>\n",
       "      <td>2014.000000</td>\n",
       "      <td>0.500000</td>\n",
       "      <td>6.000000</td>\n",
       "      <td>5.500000</td>\n",
       "    </tr>\n",
       "    <tr>\n",
       "      <th>Finland</th>\n",
       "      <td>3.000000</td>\n",
       "      <td>2012.500000</td>\n",
       "      <td>0.250000</td>\n",
       "      <td>8.250000</td>\n",
       "      <td>1.500000</td>\n",
       "    </tr>\n",
       "    <tr>\n",
       "      <th>France</th>\n",
       "      <td>2.291667</td>\n",
       "      <td>2012.250000</td>\n",
       "      <td>0.583333</td>\n",
       "      <td>7.416667</td>\n",
       "      <td>1.750000</td>\n",
       "    </tr>\n",
       "    <tr>\n",
       "      <th>Germany</th>\n",
       "      <td>2.769231</td>\n",
       "      <td>2011.115385</td>\n",
       "      <td>0.653846</td>\n",
       "      <td>9.153846</td>\n",
       "      <td>2.000000</td>\n",
       "    </tr>\n",
       "    <tr>\n",
       "      <th>Hong Kong</th>\n",
       "      <td>3.000000</td>\n",
       "      <td>2012.333333</td>\n",
       "      <td>0.666667</td>\n",
       "      <td>5.666667</td>\n",
       "      <td>1.166667</td>\n",
       "    </tr>\n",
       "    <tr>\n",
       "      <th>India</th>\n",
       "      <td>3.015385</td>\n",
       "      <td>2012.692308</td>\n",
       "      <td>0.723077</td>\n",
       "      <td>7.661538</td>\n",
       "      <td>1.584615</td>\n",
       "    </tr>\n",
       "    <tr>\n",
       "      <th>Indonesia</th>\n",
       "      <td>4.666667</td>\n",
       "      <td>2015.000000</td>\n",
       "      <td>1.000000</td>\n",
       "      <td>5.500000</td>\n",
       "      <td>1.166667</td>\n",
       "    </tr>\n",
       "    <tr>\n",
       "      <th>Ireland</th>\n",
       "      <td>1.800000</td>\n",
       "      <td>2011.800000</td>\n",
       "      <td>1.800000</td>\n",
       "      <td>9.400000</td>\n",
       "      <td>0.000000</td>\n",
       "    </tr>\n",
       "    <tr>\n",
       "      <th>Israel</th>\n",
       "      <td>1.950000</td>\n",
       "      <td>2013.300000</td>\n",
       "      <td>0.200000</td>\n",
       "      <td>7.400000</td>\n",
       "      <td>0.650000</td>\n",
       "    </tr>\n",
       "    <tr>\n",
       "      <th>Italy</th>\n",
       "      <td>1.000000</td>\n",
       "      <td>2019.000000</td>\n",
       "      <td>0.000000</td>\n",
       "      <td>3.000000</td>\n",
       "      <td>0.000000</td>\n",
       "    </tr>\n",
       "    <tr>\n",
       "      <th>Japan</th>\n",
       "      <td>1.600000</td>\n",
       "      <td>2013.200000</td>\n",
       "      <td>0.200000</td>\n",
       "      <td>6.600000</td>\n",
       "      <td>0.200000</td>\n",
       "    </tr>\n",
       "    <tr>\n",
       "      <th>Lithuania</th>\n",
       "      <td>5.000000</td>\n",
       "      <td>2008.000000</td>\n",
       "      <td>1.000000</td>\n",
       "      <td>11.000000</td>\n",
       "      <td>5.000000</td>\n",
       "    </tr>\n",
       "    <tr>\n",
       "      <th>Luxembourg</th>\n",
       "      <td>2.000000</td>\n",
       "      <td>2012.000000</td>\n",
       "      <td>0.000000</td>\n",
       "      <td>7.000000</td>\n",
       "      <td>0.000000</td>\n",
       "    </tr>\n",
       "    <tr>\n",
       "      <th>Malaysia</th>\n",
       "      <td>2.000000</td>\n",
       "      <td>2015.000000</td>\n",
       "      <td>1.000000</td>\n",
       "      <td>6.000000</td>\n",
       "      <td>2.000000</td>\n",
       "    </tr>\n",
       "    <tr>\n",
       "      <th>Mexico</th>\n",
       "      <td>2.666667</td>\n",
       "      <td>2015.833333</td>\n",
       "      <td>0.333333</td>\n",
       "      <td>5.000000</td>\n",
       "      <td>0.833333</td>\n",
       "    </tr>\n",
       "    <tr>\n",
       "      <th>Netherlands</th>\n",
       "      <td>3.166667</td>\n",
       "      <td>2010.166667</td>\n",
       "      <td>0.333333</td>\n",
       "      <td>9.833333</td>\n",
       "      <td>1.500000</td>\n",
       "    </tr>\n",
       "    <tr>\n",
       "      <th>Nigeria</th>\n",
       "      <td>2.000000</td>\n",
       "      <td>2018.000000</td>\n",
       "      <td>1.000000</td>\n",
       "      <td>3.000000</td>\n",
       "      <td>2.000000</td>\n",
       "    </tr>\n",
       "    <tr>\n",
       "      <th>Norway</th>\n",
       "      <td>1.250000</td>\n",
       "      <td>2013.500000</td>\n",
       "      <td>0.000000</td>\n",
       "      <td>7.750000</td>\n",
       "      <td>0.000000</td>\n",
       "    </tr>\n",
       "    <tr>\n",
       "      <th>Philippines</th>\n",
       "      <td>1.500000</td>\n",
       "      <td>2015.000000</td>\n",
       "      <td>0.500000</td>\n",
       "      <td>4.000000</td>\n",
       "      <td>1.000000</td>\n",
       "    </tr>\n",
       "    <tr>\n",
       "      <th>Senegal</th>\n",
       "      <td>2.000000</td>\n",
       "      <td>2018.000000</td>\n",
       "      <td>0.000000</td>\n",
       "      <td>3.000000</td>\n",
       "      <td>0.000000</td>\n",
       "    </tr>\n",
       "    <tr>\n",
       "      <th>Singapore</th>\n",
       "      <td>1.750000</td>\n",
       "      <td>2013.833333</td>\n",
       "      <td>0.500000</td>\n",
       "      <td>6.916667</td>\n",
       "      <td>1.000000</td>\n",
       "    </tr>\n",
       "    <tr>\n",
       "      <th>South Africa</th>\n",
       "      <td>1.500000</td>\n",
       "      <td>1989.500000</td>\n",
       "      <td>1.000000</td>\n",
       "      <td>27.000000</td>\n",
       "      <td>1.500000</td>\n",
       "    </tr>\n",
       "    <tr>\n",
       "      <th>South Korea</th>\n",
       "      <td>3.416667</td>\n",
       "      <td>2008.166667</td>\n",
       "      <td>0.333333</td>\n",
       "      <td>10.333333</td>\n",
       "      <td>1.250000</td>\n",
       "    </tr>\n",
       "    <tr>\n",
       "      <th>Spain</th>\n",
       "      <td>1.333333</td>\n",
       "      <td>2011.666667</td>\n",
       "      <td>0.333333</td>\n",
       "      <td>8.666667</td>\n",
       "      <td>0.666667</td>\n",
       "    </tr>\n",
       "    <tr>\n",
       "      <th>Sweden</th>\n",
       "      <td>10.500000</td>\n",
       "      <td>2013.000000</td>\n",
       "      <td>1.833333</td>\n",
       "      <td>6.000000</td>\n",
       "      <td>3.166667</td>\n",
       "    </tr>\n",
       "    <tr>\n",
       "      <th>Switzerland</th>\n",
       "      <td>1.600000</td>\n",
       "      <td>2005.400000</td>\n",
       "      <td>0.000000</td>\n",
       "      <td>14.000000</td>\n",
       "      <td>0.000000</td>\n",
       "    </tr>\n",
       "    <tr>\n",
       "      <th>Thailand</th>\n",
       "      <td>1.500000</td>\n",
       "      <td>2015.000000</td>\n",
       "      <td>0.000000</td>\n",
       "      <td>6.000000</td>\n",
       "      <td>0.000000</td>\n",
       "    </tr>\n",
       "    <tr>\n",
       "      <th>Turkey</th>\n",
       "      <td>5.333333</td>\n",
       "      <td>2015.333333</td>\n",
       "      <td>1.000000</td>\n",
       "      <td>6.000000</td>\n",
       "      <td>3.000000</td>\n",
       "    </tr>\n",
       "    <tr>\n",
       "      <th>United Arab Emirates</th>\n",
       "      <td>1.666667</td>\n",
       "      <td>2012.333333</td>\n",
       "      <td>0.333333</td>\n",
       "      <td>7.000000</td>\n",
       "      <td>0.333333</td>\n",
       "    </tr>\n",
       "    <tr>\n",
       "      <th>United Kingdom</th>\n",
       "      <td>4.534884</td>\n",
       "      <td>2011.744186</td>\n",
       "      <td>0.697674</td>\n",
       "      <td>7.930233</td>\n",
       "      <td>2.511628</td>\n",
       "    </tr>\n",
       "    <tr>\n",
       "      <th>United States</th>\n",
       "      <td>3.439502</td>\n",
       "      <td>2013.403915</td>\n",
       "      <td>0.430605</td>\n",
       "      <td>6.798932</td>\n",
       "      <td>1.640569</td>\n",
       "    </tr>\n",
       "    <tr>\n",
       "      <th>Vietnam</th>\n",
       "      <td>2.500000</td>\n",
       "      <td>2016.000000</td>\n",
       "      <td>0.000000</td>\n",
       "      <td>5.000000</td>\n",
       "      <td>0.000000</td>\n",
       "    </tr>\n",
       "  </tbody>\n",
       "</table>\n",
       "</div>"
      ],
      "text/plain": [
       "                      Valuation  Year_Founded   Funding  Year_to_be_a_unicorn  \\\n",
       "Country                                                                         \n",
       "Argentina              2.000000   2017.000000  1.000000              4.000000   \n",
       "Australia              7.000000   2012.750000  0.250000              7.875000   \n",
       "Austria                3.500000   2015.500000  1.000000              5.500000   \n",
       "Bahamas               32.000000   2018.000000  2.000000              3.000000   \n",
       "Belgium                2.666667   2010.333333  0.333333             10.333333   \n",
       "Bermuda                2.000000   2006.000000  0.000000             11.000000   \n",
       "Brazil                 2.312500   2012.062500  0.687500              7.937500   \n",
       "Canada                 2.578947   2011.105263  0.315789             10.000000   \n",
       "Chile                  1.500000   2016.500000  0.000000              5.000000   \n",
       "China                  4.023121   2012.658960  0.612717              5.797688   \n",
       "Colombia               3.000000   2013.000000  1.000000              3.500000   \n",
       "Croatia                1.000000   2006.000000  0.000000             14.000000   \n",
       "Czech Republic         1.000000   2019.000000  0.000000              2.000000   \n",
       "Denmark                3.500000   2015.000000  0.000000              6.000000   \n",
       "Estonia                6.500000   2014.000000  0.500000              6.000000   \n",
       "Finland                3.000000   2012.500000  0.250000              8.250000   \n",
       "France                 2.291667   2012.250000  0.583333              7.416667   \n",
       "Germany                2.769231   2011.115385  0.653846              9.153846   \n",
       "Hong Kong              3.000000   2012.333333  0.666667              5.666667   \n",
       "India                  3.015385   2012.692308  0.723077              7.661538   \n",
       "Indonesia              4.666667   2015.000000  1.000000              5.500000   \n",
       "Ireland                1.800000   2011.800000  1.800000              9.400000   \n",
       "Israel                 1.950000   2013.300000  0.200000              7.400000   \n",
       "Italy                  1.000000   2019.000000  0.000000              3.000000   \n",
       "Japan                  1.600000   2013.200000  0.200000              6.600000   \n",
       "Lithuania              5.000000   2008.000000  1.000000             11.000000   \n",
       "Luxembourg             2.000000   2012.000000  0.000000              7.000000   \n",
       "Malaysia               2.000000   2015.000000  1.000000              6.000000   \n",
       "Mexico                 2.666667   2015.833333  0.333333              5.000000   \n",
       "Netherlands            3.166667   2010.166667  0.333333              9.833333   \n",
       "Nigeria                2.000000   2018.000000  1.000000              3.000000   \n",
       "Norway                 1.250000   2013.500000  0.000000              7.750000   \n",
       "Philippines            1.500000   2015.000000  0.500000              4.000000   \n",
       "Senegal                2.000000   2018.000000  0.000000              3.000000   \n",
       "Singapore              1.750000   2013.833333  0.500000              6.916667   \n",
       "South Africa           1.500000   1989.500000  1.000000             27.000000   \n",
       "South Korea            3.416667   2008.166667  0.333333             10.333333   \n",
       "Spain                  1.333333   2011.666667  0.333333              8.666667   \n",
       "Sweden                10.500000   2013.000000  1.833333              6.000000   \n",
       "Switzerland            1.600000   2005.400000  0.000000             14.000000   \n",
       "Thailand               1.500000   2015.000000  0.000000              6.000000   \n",
       "Turkey                 5.333333   2015.333333  1.000000              6.000000   \n",
       "United Arab Emirates   1.666667   2012.333333  0.333333              7.000000   \n",
       "United Kingdom         4.534884   2011.744186  0.697674              7.930233   \n",
       "United States          3.439502   2013.403915  0.430605              6.798932   \n",
       "Vietnam                2.500000   2016.000000  0.000000              5.000000   \n",
       "\n",
       "                      Return_on_investment  \n",
       "Country                                     \n",
       "Argentina                         2.000000  \n",
       "Australia                         5.750000  \n",
       "Austria                           3.500000  \n",
       "Bahamas                          16.000000  \n",
       "Belgium                           1.666667  \n",
       "Bermuda                           0.000000  \n",
       "Brazil                            1.562500  \n",
       "Canada                            1.368421  \n",
       "Chile                             0.000000  \n",
       "China                             1.751445  \n",
       "Colombia                          1.500000  \n",
       "Croatia                           0.000000  \n",
       "Czech Republic                    0.000000  \n",
       "Denmark                           0.000000  \n",
       "Estonia                           5.500000  \n",
       "Finland                           1.500000  \n",
       "France                            1.750000  \n",
       "Germany                           2.000000  \n",
       "Hong Kong                         1.166667  \n",
       "India                             1.584615  \n",
       "Indonesia                         1.166667  \n",
       "Ireland                           0.000000  \n",
       "Israel                            0.650000  \n",
       "Italy                             0.000000  \n",
       "Japan                             0.200000  \n",
       "Lithuania                         5.000000  \n",
       "Luxembourg                        0.000000  \n",
       "Malaysia                          2.000000  \n",
       "Mexico                            0.833333  \n",
       "Netherlands                       1.500000  \n",
       "Nigeria                           2.000000  \n",
       "Norway                            0.000000  \n",
       "Philippines                       1.000000  \n",
       "Senegal                           0.000000  \n",
       "Singapore                         1.000000  \n",
       "South Africa                      1.500000  \n",
       "South Korea                       1.250000  \n",
       "Spain                             0.666667  \n",
       "Sweden                            3.166667  \n",
       "Switzerland                       0.000000  \n",
       "Thailand                          0.000000  \n",
       "Turkey                            3.000000  \n",
       "United Arab Emirates              0.333333  \n",
       "United Kingdom                    2.511628  \n",
       "United States                     1.640569  \n",
       "Vietnam                           0.000000  "
      ]
     },
     "execution_count": 32,
     "metadata": {},
     "output_type": "execute_result"
    }
   ],
   "source": [
    "country_unicorns = df.groupby('Country').mean()\n",
    "country_unicorns"
   ]
  },
  {
   "cell_type": "code",
   "execution_count": 71,
   "metadata": {},
   "outputs": [
    {
     "data": {
      "image/png": "[encoded data removed]",
      "text/plain": [
       "<Figure size 460.8x720 with 1 Axes>"
      ]
     },
     "metadata": {
      "needs_background": "light"
     },
     "output_type": "display_data"
    }
   ],
   "source": [
    "ax = country_unicorns.nsmallest(30, 'Year_to_be_a_unicorn')\n",
    "ax = ax.sort_values(\n",
    "                    by='Year_to_be_a_unicorn',\n",
    "                    ascending=False\n",
    ")\n",
    "colors='green'\n",
    "\n",
    "# bar chart\n",
    "plt.barh(ax.index, ax.Year_to_be_a_unicorn, color=colors)\n",
    "plt.title('Number of years to become a Unicorns', size=14)\n",
    "plt.xlabel('No of years')\n",
    "\n",
    "#define plot size for all plots\n",
    "plt.rcParams['figure.figsize'] = [6.4, 8]\n",
    "\n",
    "plt.show()"
   ]
  },
  {
   "cell_type": "code",
   "execution_count": 82,
   "metadata": {},
   "outputs": [
    {
     "data": {
      "text/plain": [
       "Country\n",
       "Argentina                 1\n",
       "Australia                 2\n",
       "Austria                   2\n",
       "Bahamas                   2\n",
       "Belgium                   1\n",
       "Bermuda                   0\n",
       "Brazil                   11\n",
       "Canada                    6\n",
       "Chile                     0\n",
       "China                   106\n",
       "Colombia                  2\n",
       "Croatia                   0\n",
       "Czech Republic            0\n",
       "Denmark                   0\n",
       "Estonia                   1\n",
       "Finland                   1\n",
       "France                   14\n",
       "Germany                  17\n",
       "Hong Kong                 4\n",
       "India                    47\n",
       "Indonesia                 6\n",
       "Ireland                   9\n",
       "Israel                    4\n",
       "Italy                     0\n",
       "Japan                     1\n",
       "Lithuania                 1\n",
       "Luxembourg                0\n",
       "Malaysia                  1\n",
       "Mexico                    2\n",
       "Netherlands               2\n",
       "Nigeria                   1\n",
       "Norway                    0\n",
       "Philippines               1\n",
       "Senegal                   0\n",
       "Singapore                 6\n",
       "South Africa              2\n",
       "South Korea               4\n",
       "Spain                     1\n",
       "Sweden                   11\n",
       "Switzerland               0\n",
       "Thailand                  0\n",
       "Turkey                    3\n",
       "United Arab Emirates      1\n",
       "United Kingdom           30\n",
       "United States           242\n",
       "Vietnam                   0\n",
       "Name: Funding, dtype: int64"
      ]
     },
     "execution_count": 82,
     "metadata": {},
     "output_type": "execute_result"
    }
   ],
   "source": [
    "# Total Unicorn funding received by country in $'bn\n",
    "\n",
    "country_funding = df.groupby('Country').sum('Funding')\n",
    "country_funding.Funding"
   ]
  },
  {
   "cell_type": "code",
   "execution_count": 99,
   "metadata": {},
   "outputs": [
    {
     "data": {
      "image/png": "[encoded data removed]",
      "text/plain": [
       "<Figure size 460.8x504 with 1 Axes>"
      ]
     },
     "metadata": {
      "needs_background": "light"
     },
     "output_type": "display_data"
    }
   ],
   "source": [
    "x = country_funding.nlargest(30, 'Funding')\n",
    "\n",
    "x = x.sort_values(\n",
    "                    by='Funding',\n",
    "                    ascending=True\n",
    ")\n",
    "\n",
    "colors='green'\n",
    "\n",
    "# bar chart\n",
    "plt.barh(x.index, x.Funding, color=colors)\n",
    "plt.title('Funding received by Unicorns per Country $bn', size=14)\n",
    "plt.xlabel('Amount received $bn')\n",
    "\n",
    "#define plot size for all plots\n",
    "plt.rcParams['figure.figsize'] = [6.4, 7]\n",
    "\n",
    "plt.show()"
   ]
  },
  {
   "cell_type": "code",
   "execution_count": 101,
   "metadata": {},
   "outputs": [
    {
     "data": {
      "text/plain": [
       "Country\n",
       "Argentina                2.000000\n",
       "Australia                5.750000\n",
       "Austria                  3.500000\n",
       "Bahamas                 16.000000\n",
       "Belgium                  1.666667\n",
       "Bermuda                  0.000000\n",
       "Brazil                   1.562500\n",
       "Canada                   1.368421\n",
       "Chile                    0.000000\n",
       "China                    1.751445\n",
       "Colombia                 1.500000\n",
       "Croatia                  0.000000\n",
       "Czech Republic           0.000000\n",
       "Denmark                  0.000000\n",
       "Estonia                  5.500000\n",
       "Finland                  1.500000\n",
       "France                   1.750000\n",
       "Germany                  2.000000\n",
       "Hong Kong                1.166667\n",
       "India                    1.584615\n",
       "Indonesia                1.166667\n",
       "Ireland                  0.000000\n",
       "Israel                   0.650000\n",
       "Italy                    0.000000\n",
       "Japan                    0.200000\n",
       "Lithuania                5.000000\n",
       "Luxembourg               0.000000\n",
       "Malaysia                 2.000000\n",
       "Mexico                   0.833333\n",
       "Netherlands              1.500000\n",
       "Nigeria                  2.000000\n",
       "Norway                   0.000000\n",
       "Philippines              1.000000\n",
       "Senegal                  0.000000\n",
       "Singapore                1.000000\n",
       "South Africa             1.500000\n",
       "South Korea              1.250000\n",
       "Spain                    0.666667\n",
       "Sweden                   3.166667\n",
       "Switzerland              0.000000\n",
       "Thailand                 0.000000\n",
       "Turkey                   3.000000\n",
       "United Arab Emirates     0.333333\n",
       "United Kingdom           2.511628\n",
       "United States            1.640569\n",
       "Vietnam                  0.000000\n",
       "Name: Return_on_investment, dtype: float64"
      ]
     },
     "execution_count": 101,
     "metadata": {},
     "output_type": "execute_result"
    }
   ],
   "source": [
    "# Countries with the best ROI\n",
    "\n",
    "country_ROI = df.groupby('Country').mean('Return_on_investment')\n",
    "country_ROI.Return_on_investment"
   ]
  },
  {
   "cell_type": "code",
   "execution_count": 105,
   "metadata": {},
   "outputs": [
    {
     "data": {
      "image/png": "[encoded data removed]",
      "text/plain": [
       "<Figure size 460.8x504 with 1 Axes>"
      ]
     },
     "metadata": {
      "needs_background": "light"
     },
     "output_type": "display_data"
    }
   ],
   "source": [
    "y = country_ROI.nlargest(30, 'Return_on_investment')\n",
    "\n",
    "y = y.sort_values(\n",
    "                    by='Return_on_investment',\n",
    "                    ascending=True\n",
    ")\n",
    "\n",
    "colors='green'\n",
    "\n",
    "# bar chart\n",
    "plt.barh(y.index, y.Return_on_investment, color=colors)\n",
    "plt.title('ROI by Unicorns per Country', size=14)\n",
    "plt.xlabel('ROI (x)')\n",
    "\n",
    "#define plot size for all plots\n",
    "plt.rcParams['figure.figsize'] = [6.4, 7.5]\n",
    "\n",
    "plt.show()"
   ]
  },
  {
   "cell_type": "code",
   "execution_count": 126,
   "metadata": {},
   "outputs": [],
   "source": [
    "from collections import Counter"
   ]
  },
  {
   "cell_type": "code",
   "execution_count": 145,
   "metadata": {},
   "outputs": [
    {
     "name": "stdout",
     "output_type": "stream",
     "text": [
      "[nan, 'Salesforce Ventures, next47, Pereg Ventures', 'Khosla Ventures, Horizons Ventures, Temasek Holdings', 'Sequoia Capital India, Tiger Global Management, Matrix Partners India', 'Left Lane Capital, Walden Venture Capital', 'Sequoia Capital China, Warburg Pincus, IDG Capital', 'Tencent Holdings, Tiger Global Management, Global Founders Capital', 'Dark Horse Technology Group, Hopu Investment Management, Kefa Capital', 'Tencent Holdings, CRV, Clocktower Technology Ventures', 'BNP Paribas, Goldman Sachs, Google', 'Sequoia Capital China, Qiming Venture Partners, Tencent Holdings', 'Baidu Capital, Linear Venture, Tencent', 'Thrive Capital, Khosla Ventures, Tiger Global Management', 'KKR, Tencent Holdings, Sequoia Capital China', 'Sequoia Capital China, DST Global, DST Global', 'Goldman Sachs Asset Management', 'Balderton Capital, Next World Capital, Draper Esprit', 'SoftBank Group, Access Industries, Crossbeam Venture Partners', 'Ant Financial Services Group, GGV Capital', 'Northzone Ventures, White Star Capital, Novator Partners', 'Franklin Templeton, Motive Partners, Apollo Global Management', 'Auriga, Galeo Ventures, Highland Europe', 'Kleiner Perkins Caufield & Byers, Sequoia Capital', 'Genesis Partners, Aleph, Insight Partners', 'Accomplice, Oak Investment Partners, Georgian Partners', 'Insight Partners, B Capital Group, Lightspeed Venture Partners', 'Vattenfall, Volkswagen Group, Goldman Sachs', 'Alibaba Pictures Group', 'Ant Financial Services Group, Russia-China Investment Fund, Foxconn Technology Company', 'Andreessen Horowitz, Google Ventures, Section 32', '01 Advisors, Zeev Ventures, Group 11', 'Alibaba Group,Co-Stone Venture Capital, Buhuo Venture Capital', 'MMC Ventures, BGF Ventures, Unilever Ventures', 'Sequoia Capital India, Kae Capital, Accel', 'Foundry Group, Scale Venture Partners, SoftBank Group', 'India Quotient, Elevation Capital, Lightspeed Venture Partners', 'Redpoint e.ventures, Valor Capital Group, SoftBank Latin America Fund', 'Matrix Partners China, Eastern Bell Capital, Hongtai Capital Holdings', 'e.ventures, Bain Capital Ventures, Greycroft', 'Green Bay Ventures, M12, Andreessen Horowitz', 'Sequoia Capital China, Xiang He Capital, GGV Capital', 'Insight Partners, Warburg Pincus, Ayala Corporation', 'Sequoia Capital China, Matrix Partners China, 58.com', 'Mayfield Fund, Insight Partners, Rembrandt Venture Partners', 'IDG Capital, Gaocheng Capital, Chuanrong Capital', 'Forerunner Ventures, Lifeline Ventures, MSD Capital', 'Chiratae Ventures, Accel, Kalaari Capital', 'Goodwater Capital, Entree Capital, Valar Ventures', 'General Catalyst, Nexus Venture Partners, Dell Technologies Capital', 'Rembrandt Venture Partners, M12, Altos Ventures', 'Lightspeed Venture Partners, Khosla Ventures, Geodesic Capital', 'Trustbridge Partners, IDG Capital, Sequoia Capital China', 'SoftBank Group, General Atlantic', 'Y Combinator, Andreessen Horowitz, Wonder Ventures', 'Relay Ventures, TTV Capital, Canapi Ventures', 'Bessemer Venture Partners, ICONIQ Capital, Battery Ventures', 'Fairfax Financial Holdings, A91 Partners, TVS Capital', 'BlueCross BlueShield Venture Partners, US Venture Partners', 'Tencent Holdings, Goldman Sachs', 'Sierra Ventures, Battery Ventures, Asset Management Ventures', 'Google Ventures, Kleiner Perkins Caufield & Byers, Stripes Group', 'Fabric Ventures, AirTree Ventures, Temasek', '8VC, Menlo Ventures, Tiger Global Management', 'Simon Equity Partners, Wavemaker Partners, Anthem Venture Partners', 'Soros Fund Management, Ribbit Capital, Monashees+', '8VC, Liberty Strategic Capital, Eden Global Partners', 'Sequoia Capital, Thoma Bravo, Softbank', 'Index Ventures, IDInvest Partners, Daphni', 'Benchmark, Foundation Capital, Sequoia Capital', 'GGV Capital, ZhenFund, Tencent', 'Index Ventures, Sequoia Capital, General Catalyst', 'Paradigm, Andreessen Horowitz, Jump Capital', 'KKR, ES Ventures, North Bridge Growth Equity', '5Y Capital, Matrix Partners China, K2VC', 'Optum Ventures, Qiming Venture Partners, Transformation Capital', 'Danone Manifesto Ventures, 1955 Capital, Breakthrough Energy Ventures', 'IDG Capital, ZhenFund, Sequoia Capital China', 'Trinity Ventures, Madrona Venture Group, Shasta Ventures', 'Sequoia Capital China, Blackbird Ventures, Matrix Partners', 'Initialized Capital, Sound Ventures, TI Platform Management', 'Y Combinator, Atomico, Accel', 'Greylock Partners, Lux Capital, General Atlantic', 'Silicon Valley Bank, QED Investors, European Founders Fund', 'Union Square Ventures, Altos Ventures, Costanoa Ventures', 'Google Ventures, Benchmark, FirstMark Capital', 'Georgian Partners, Craft Ventures', 'Drive Capital, General Catalyst, Ascension Ventures', 'Activant Capital, Tribe Capital, General Atlantic', 'Technology Crossover Ventures, Alkeon Capital Management, General Atlantic', 'Foundation Capital, Frontier Ventures, AltaIR Capital', 'Accel, Y Combinator, Amasia', 'Foundation Capital, Institutional Venture Partners, General Catalyst', 'General Atlantic, SoftBank Group, Atomico', 'Warburg Pincus, General Catalyst', 'NextView Ventures, Eniac Ventures, Sequoia Capital', 'Sequoia Capital, Bain Capital Ventures, enaya Capital', 'Green Pine Capital Partners, Ivy Capital, DCM Ventures', 'Chromo Invest, Maersk Growth, BlackRock', 'Global Founders Capital, 468 Capital, Redalpine Venture Partners', 'Artiman Ventures, Plug and Play Ventures, Anthos Capital', 'Sequoia Capital, DCM Ventures, Insight Partners', 'Walden International, Google Ventures, Intel Capital', 'JOY Capital, NIO Capital, Blueflame Capital', 'Sequoia Capital, Y Combinator, Accel', 'DST Global, Ribbit Capital, Greenoaks Capital Management', 'Khosla Ventures, General Catalyst, Navitas Capital', 'WestCap Group, Caisse de depot et placement du Quebec', 'Oriza Holdings, Guangdong Technology Financial Group', 'ARCH Venture Partners, Ally Bridge Group', 'Tenaya Capital, Coatue Management, Stripes Group', 'Global Founders Capital, Comcast Ventures, Forerunner Ventures', 'Fasanara Capital, Tiger Global Management, Baleen Capital', 'Sequoia Capital China, Tencent Investment, BA Capital', 'Norwest Venture Partners, Next World Capital, Wing Venture Capital', 'Blackrock, capitalG, World Lab Innovation', 'Threshold Ventures, Baseline Ventures, Harrison Metal', 'Benchmark, Greylock Partners, Tencent Holdings', 'Airbus Ventures, Index Ventures, Advent International', 'VGames, Lakestar, Galaxy Interactive', 'Accel, Alven Capital, Storm Ventures', 'Multicoin Capital, Coatue Management, Dragonfly Capital Partners', 'QED Investors, DST Global, Endeavor', 'GGV Capital, Tiger Global Management, Greycroft', 'Founders Fund, Khosla Ventures, Goldman Sachs', 'Zeev Ventures, Bond, Fifth Wall Ventures', 'CDH Investments, Goldstone Investments, Qiming Venture Partners', 'Caffeinated Capital, CRV, Founder Collective', 'Bain Capital', 'MindWorks Ventures, Shunwei Capital Partners, Xiang He Capital', 'Softbank Group, AME Cloud Ventures, SignalFire', 'SoftBank Group, Sequoia Capital India,Lightspeed India Partners', 'China Everbright Limited, IDG Capital, iFLYTEK', 'Lightspeed Venture Partners, Sapphire Ventures, Kleiner Perkins Caufield & Byers', 'Cherry Ventures, Northzone Ventures, Global Founders Capital', 'K2VC, Lightspeed China Partners, Sky9 Capital', 'Magma Venture Partners, Pitango Venture Capital, Qumra Capital', 'Andreessen Horowitz, Nor-Cal Invest, TPG Growth', 'SAIF Partners China, Baidu, IDG Capital', 'Gunosy Capital, Blume Ventures, Das Capital', 'GCP Capital Partners', 'Thrive Capital, Maverick Ventures, Redpoint Ventures', 'Astanor Ventures, Upfront Ventures, IDInvest Partners', 'GGV Capital, GSR Ventures, FreesFund', 'China Grand Prosperity Investment, CSC Group', 'D1 Capital Partners, Stripe, Coatue Management', 'Initialized Capital, General Catalyst, Kraken Ventures', 'Big Bets, General Atlantic, SOFTBANK Latin America Ventures', 'Matrix Partners, Initialized Capital, Tiger Global Management', 'Aspect Ventures, SingTel Innov8, Greylock Partners', 'Pritzker Group Venture Capital, Accel, Hyde Park Venture Partners', 'Accel, Institutional Venture Partners, Tiger Global Management', 'Kaszek Ventures, Amadeus Capital Partners, Quona Capital', 'Square Peg Capital, TDM Growth Partners, Tiger Global Management', 'Threshold Ventures, Lightspeed Venture Partners, Crosslink Capital', 'Trinity Ventures, Fifth Wall Ventures, OpenView Venture Partners', 'SoftBank Group, Sequoia Capital, Wing Venture Capital', 'Vertex Ventures Israel, Bessemer Venture Partners, Emerge', 'Slow Ventures, Andreessen Horowitz, SoftBank Group', 'Kaszek Ventures, Qualcomm Ventures, Accel', 'Accel, Summit Partners, Google Ventures', 'SoftBank Group, CRV, Spark Capital', 'Stripes Group, Neuberger Berman', 'Insight Partners, Ignition Partners, Georgian Partners', 'Advent International, PSG, Providence Equity Partners', 'Google Ventures, Index Ventures, Scale Venture Partners', 'L Catterton, Franklin Templeton, First Light Capital Group', 'Sutter Hill Ventures, Liberty Global Ventures, Coatue Management', 'Accel, Insight Partners, Burda Principal Investments', 'Accel, Passion Capital, Balderton Capital', 'Fosun RZ Capital, Oceanwide Holdings, Shenzhen Qianhe Capital Management Co.', 'Northzone Ventures, Maveron, Johnson & Johnson Innovation', 'Northern Light Venture Capital, Xiaomi, FutureX Capital', 'Georgian Partners, Silver Lake, Presidio Ventures', 'Accel, Silversmith Capital Partners, capitalG', 'JD.com, Baidu, Vision Plus Capital', 'Eurazeo, IDInvest Partners, Balderton Capital', 'Caffeinated Capital, Obvious Ventures, Venrock', 'Paladin Capital Group, Greycroft, Scale Venture Partners', 'Makers Fund, Index Ventures, Inova Ventures Participacees', 'Andreessen Horowitz, New Enterprise Associates, Battery Ventures', 'Hopu Investment Management, Boyu Capital, DC Thomson Ventures', 'Tencent, Morningside Group', 'Founders Fund, Upfront Ventures, 01 Advisors', 'Bessemer Venture Partners, Eniac Ventures, Canapi Ventures', 'Vitruvian Partners, Merieux Equity Partners, Straumann', 'Tencent Holdings, DCM Ventures', 'General Catalyst, Viking Global Investors, T. Rowe Price', 'Tencent Holdings, Hillhouse Capital Management, Yunfeng Capital', 'Norwest Venture Partners, Goldman Sachs, Dell Technologies Capital', 'Accel, D1 Capita Partners, Greenoaks Capital Management', 'Sequoia Capital, General Catalyst, Human Capital', 'Refactor Capital, Andreessen Horowitz, Fifty Years Fund', 'Formation 8', 'Battery Ventures, Tiger Global Management, Hanaco Ventures', 'Eastern Bell Capital, SF Holding Co, STO Express', 'Earlybird Venture Capital, Eleven Ventures, QED Investors', 'GGV Capital, IDG Capital, Linear Venture', 'next47, MaC Venture Capital, FinVC', 'KKR, TowerBrook Capital Partners', 'Sequoia Capital India, Rocketship.vc, Lightspeed India Partners', 'Goldman Sachs, VebVentures, Insight Partners', 'TA Associates, SoftBank Group, GS Growth', 'China Health Industry Investment Fund, China Renaissance, and Sequoia Capital China', 'Summit Partners, Accel, Astral Capital', 'Aglae Ventures, Global Founders Capital, Alven Capital', 'SOSV, Khosla Ventures, Lerer Hippeau', 'Google Ventures, Battery Ventures, DST Global', 'Index Ventures, Kleiner Perkins Caufield & Byers, Bessemer Venture Partners', 'SoftBankGroup, Blackrock, Alibaba Group', 'DESUN Capital, Yunfeng Capital, Meridian Capital', 'Accel, Benchmark, SV Angel', 'Y Combinator, M12, SEEK', 'ClalTech, Vertex Ventures, Oryzn Capital', 'Lightspeed Venture Partners, Kleiner Perkins Caufield & Byers, Origin Ventures', 'Tencent, Vcanbio', 'Technology Crossover Ventures, Accel, Aker', 'Bertelsmann Asia Investments, GGV Capital, Morningside Venture Capital', 'Bnk To The Future, Trammell Ventures, SBI Investment', 'Jackson Square Ventures, General Atlantic, Lightspeed Venture Partners', 'Global Founders Capital, Nortzone Ventures, Picus Capital', 'ICONIQ Capital, OpenView Venture Partners', 'Highland Europe, Eurazeo, Canaan Partners', 'NextView Ventures, Promus Ventures, Two Sigma Ventures', 'China Minsheng Investment, Baidu, Wanxin Media', '500 Global, Rakuten Ventures, Golden Gate Ventures', 'Lightspeed Venture Partners, Lead Edge Capital, Coatue Management', 'Shunwei Capital Partners, China Media Group, Guangzhou Huiyin Aofeng Equity Investment Fund', 'Index Ventures, Eight Roads Ventures, General Atlantic', 'Sequoia Capital China, Shunwei Capital Partners, Qualgro', 'Cherry Ventures, Felix Capital, 83North', 'Nexus Venture Partners, Tenaya Capital, Sequoia Capital', 'The Carlyle Group', 'Coatue Managemeny, Trinity Ventures, Matrix Partners', 'Innovation Endeavors, s28 Capital, Lightspeed Venture Partners', 'Nexus Venture Partners, Transamerica Ventures, Crane Venture Partners', 'Jerusalem Venture Partners, Israel Growth Partners, Insight Partners', 'Highland Capital Partners, Oak HC/FT Partners, Emergence Capital Partners', 'Amiti Ventures, Playground Global, Aleph', 'Greycroft, Lerer Hippeau, Geekdom Fund', 'Salesforce Ventures, Seedcamp, OMERS Ventures', 'Khosla Ventures,General Catalyst, Victory Park Capital', 'Sequoia Capital China, ING, Alibaba Entrepreneurs Fund', 'next47, First Round Capital, Sequoia Capital', 'Qiming Venture Partners, Vivo Capital, Sequoia Capital China', 'Telling Telecommunication Holding Co., Alibaba Group', 'Bessemer Venture Partners, Pitango Venture Capital, D1 Capital Partners', 'Cybernaut Growth Fund, IDG Capital', 'Kleiner Perkins Caufield & Byers, NightDragon Security, Venrock', 'Prime Movers Lab, Khosla Ventures, I Squared Capital', 'SingTel Innov8, Alpha JWC Ventures, Golden Gate Ventures', 'Initialized Capital, General Catalyst, SignalFire', 'Oak HC/FT Partners, Artis Ventures, WestCap Group', 'Andreessen Horowitz, Coatue Management, Clocktower Technology Ventures', 'Rhone Capital', 'Index Ventures, Thrive Capital, CRV', 'Aviation Industry Corporation of China, Essence Financial, Jiangsu Sha Steel Group', 'Norwest Venture Partners, Accel, Tiger Global Management', 'Holtzbrinck Ventures, Unternehmertum Venture Capital, General Atlantic', 'Insight Venture Partners, Lowercase Capital, Polaris Partners', 'Javelin Venture Partners, Struck Capital, Alumni Ventures Group', 'Accel, 14W, GS Growth', 'Tiger Global, Sequoia Capital, Google Capital', 'Tiger Global Management, DST Global, Sequoia Capital India', 'SoftBank Group, SAIF Partners India, Valiant Capital Partners', 'Signal Peak Ventures, Owl Ventures, Jump Capital', \"L'Occitane, Trifecta Capital, Bessemer Venture Partners\", 'Source Code Capital, XVC Venture Capital, Hillhouse Capital Management', 'ICONIQ Growth, Bain Capital Ventures, Summit Partners', 'Inflexion Private Equity', 'FirstMark Capital, Anthemis, CMFG Ventures', 'Tencent Holdings, KKR, Smash Ventures', 'Valor Capital Group, Lightrock, Softbank Group', 'Alpargatas, GS Growth, Lightspeed Venture Partners', 'Mayfield Fund, Shasta Ventures, L Catterton', 'Revolution, New Enterprise Associates, Caterpillar', 'Sequoia Capital China, Tencent Holdings, Sinovation Ventures', 'Alibaba Group, China Everbright Investment Management, Yinxinggu Capital', 'Taigang Venture Capital', 'Tao Capital Partners, Global Asset Capital, Tiger Global Management', 'Pantera Capital, Cadenza Ventures, BlockTower Capital', 'Target Global, General Catalyst, Durable Capital Partners', 'Sequoia Capital, Founders Fund, Bling Capital', 'Temasek, Google Ventures, General Catalyst', 'Tiger Global Management, The Raine Group, Malabar Investments', 'Sutter Hill Ventures, Osage University Partners, Spark Capital', 'Blue Label Telecoms, Net1 UEPS Technologies', 'BOLDstart Ventures, SAP.iO Fund, Scale Venture Partners', 'Yinhong Equity Investment Fund, E Fund, Ideal International', '8VC, D1 Capital Partners, Sway Ventures', 'Expa, QED Investors, Foundation Capital', 'Cool Japan Fund, JAFCO, The Carlyle Group', 'Eight Roads Ventures, Greycroft, Ignition Partners', 'Kaszek Ventures, SOSV, Tiger Global Management', 'Kleiner Perkins Caufield & Byers, Comcast Ventures, Insight Partners', 'Costanoa Ventures, Data Collective, Salesforce Ventures', 'Fireside Ventures, Sequoia Capital India, Stellaris Venture Partners', 'Day One Ventures, Coinbase Ventures, Andreessen Horowitz', 'Wing Venture Capital, Slow Ventures, Uncork Capital', 'Foundation Capital, Summit Partners, Adams Street Partners', 'Xingwang Investment Management, China Capital Investment Group, Matrix Partners China', 'Ding Xiang Capital, New Hope Fund, Sino-Ocean Capital', 'Sequoia Capital, Baillie Gifford & Co., Google Ventures', 'Vickers Venture Partners, IKEA GreenTech', 'Accel India, SAIF Partners, Norwest Venture Partners', 'Hyde Park Venture Partners, FundersClub, Bain Capital Ventures', 'Equal Ventures, Uncork Capital, Andreessen Horowitz', 'Greylock Partners, Venrock, Providence Ventures', 'Oak HC/FT Partners, GF Investments, Harvey Golub Family Office', 'QiMing Venture Partners, Temasek Holdings, Silverlink Capital', 'Falcon Edge Capital, Omidyar Network, Sequoia Capital India', 'Nintendo, Google, Pokemon Company International, Spark Capital', 'Kaalari Capital, Tencent Holdings, Steadview Capital', 'Accel, Bain Capital Ventures, Insight Partners', 'Google Ventures, Sequoia Capital, Wakefield Group', 'Uncork Capital, Threshold Ventures, Bloomberg Beta', 'Nextech Invest, Casdin Capital, Google Ventures', 'New Enterprise Associates, New Leaf Venture Partners, Charter Venture Capital', 'ConsenSys Ventures, Valar Ventures, PUC', 'Iconiq Capital', 'GGV Capital, QiMing Venture Partnersl', 'Coatue Management, BMO Capital, Schonfeld Strategic Advisors', 'Qualcomm Ventures, SoftBank Group, Monashees+', 'Japan Post Capital, Globis Capital Partners, Atomico', 'HV Capital, Softbank Group, BlackRock', 'People Electrical Appliance Group China, Zhongrong International Trust', 'FirstMark Capital, Tiger Global Management, ICONIQ Capital', 'TDK Ventures, Social Capital, D1 Capital Partners', 'M12, WestBridge Capital, Lightspeed Venture Partners', 'Sierra Ventures, AXA Venture Partners, Sigma Prime Ventures', 'Koch Disruptive Technologies, Teamworthy Ventures, GGV Capital', 'TLV Partners, Lightspeed Venture Partners, M12', 'Rethink Impact, Work-Bench, RRE Ventures', 'Yunfeng Capital, SDIC Innovation Investment Management, Shang Qi Capital', 'FTV Capital, Endeavor', 'Jungle Ventures, Accel, Venture Highway', '3one4 Capital Partners, Bertelsmann India Investments, Vertex Ventures SE Asia', 'Greycroft, Loeb.NYC, DST Global', 'NewAlpha, XAnge Private Equity, Tencent Holdings', 'RRE Ventures+, Highland Capital Partners, The Carlyle Group', 'Primary Venture Partners, Bessemer Venture Partners, Harmonic Growth Partners', 'Cambridge Innovation Capital, LGT Capital Partners, Escala Capital', 'Pelion Venture Partners, Foundation Capital, Thoma Bravo', 'Wamda Capital, Endeavor, Riverwood Capital', 'RPM Ventures, Inspiration Ventures, Carrick Capital Partners', 'Accel Partners, Comcast Ventures, General Atlantic', 'Sixth Street Partners, Declaration Partners, Maverick Ventures Israel', 'Insight Partners, Silversmith Capital Partners, Spotify', 'Volcanics Ventures, Vertex Ventures China, Warburg Pincus', 'Speedinvest, Valar Ventures, Uniqa Ventures', 'Credit Suisse', 'Mithril, iNovia Capital, Foundry Group', 'Accomplice, Polychain Capital, GoldenTree Asset Management', 'Accel, Aleph, American Express Ventures', 'Two Sigma Ventures, Flint Capital, Commerce Ventures', 'Fifth Wall Ventures, Energize Ventures, ICONIQ Capital', 'KKR, Alibaba Group, Ping An Insurance', 'GGV Capital, Hillhouse Capital Management, IDG Capital', 'Goodwater Capital, Floodgate, Founders Fund', 'Summit Partners, Qatar Holding', 'New Enterprise Associates, Benchmark, Two Sigma Ventures', 'Orange Digital Ventures, Access Industries', 'IA Ventures, Khosla Ventures, AME Cloud Ventures', 'Kuang-Chi', 'Matrix Partners China, Ventech China, Shunwei Capital Partners', 'Technology Crossover Ventures', 'Eclipse Ventures, Fidelity Investments, Moore Capital Management', 'Benchmark, Bessemer Venture Partners', 'DeFi Technologies, Hypersphere Ventures, M13', 'Bessemer Venture Partners, Vintage Investment Partners, Blumberg Capital', 'QF Capital, QC Capital, Unicom Innovation Venture Capital', 'Matrix Partners China, Sequoia Capital China, Genesis Capital', 'Guozhong Venture Capital Management, Shenzhen Capital Group, Oriental Fortune Capital', 'Addition, Benhcmark, Accel', 'New Enterprise Associates, Tiger Global management, Tencent', 'New Enterprise Associates, Koch Disruptive Technologies, Evolution Equity Partners', 'Morningside Ventures, Warburg Pincus, CreditEase Fintech Investment Fund', 'Andreessen Horowitz, Andreessen Horowitz, Institutional Venture Partners, Accel', 'Eastern Bell Capital, Danhua Capital, MSA Capital', 'Andreessen Horowitz, Bessemer Venture Partners, Coatue Management', 'Liberty City Ventures, Soros Fund Management, Summer Capital', 'CRV, Blue Cloud Ventures, Index Ventures', 'Flagship Pioneering, Alexandria Venture Investments, Investment Corporation of Dubai', 'Bloomberg Beta, Founders Fund, First Round Capital', 'Next Play Ventures, Zeal Capital Partners, SoftBank Group', 'Y Combinator, Sequoia Capital, Coatue Management', 'First Round Capital, Sequoia Capital, Index Ventures', 'Mayfield Fund, M12, Trinity Ventures', 'BlackRock, Blackstone, UBS', 'Alta Partners, Questa Capital, Echo Health Venturesl', 'Kickstart Fund, General Catalyst, Drive Capital', 'Founders Fund, Accel, Creandum', 'Meritech Capital Partners, Tiger Global Management, Spectrum Equity', 'Sequoia Capital India, Softbank, Bertelsmann India Investments', 'Summit Partners, Noshaq, Sofinnova Partners', 'Hillhouse Capital Management, Linear Venture, Morningside Venture Capital', 'Goldman Sachs Asset Management, 3L', 'U.S. Venture Partners, dRx Capital, Andreessen Horowitz', 'Pantera Capital, Polychain Capital, Lightspeed Venture Partners', 'KKR', 'Lerer Hippeau, Munich Re Ventures, Eclipse Ventures', 'LTW Capital, Legend Capital, Qualcomm Ventures', 'AWZ Ventures, Blackstone, Insight Partners', 'Insight Venture Partners, TPG Growth, Sound Ventures', 'New Enterprise Associates, Coatue Management, Tiger Global Management', 'Spark Capital, Highland Europe, Sunstone Capital', 'Redpoint Ventures, QiMing Venture Partners, Chengwei Capital', 'China Reform Fund, Gaopeng Capital, Jinhui Xingye', 'Khosla Ventures, Bain Capital Ventures, Lightspeed Venture Partners', 'Global Founders Capital, Aglae Ventures, Alven Capital', 'Chiratae Ventures, SoftBank Group, Trifecta Capital', 'Alta Partners, General Catalyst, Jove Equity Partners', 'TLV Partners, Zeev Ventures, Bessemer Venture Partners', 'New Enterprise Associates, Spar Capital, Index Ventures', 'Shenzhen Capital Group, Robert Bosch Venture Capital, SeptWolves Ventures', 'Viola Ventures, Dell Technologies Capital, Bain Capital Ventures', 'New Enterprise Associates, Pear, Cowboy Ventures', 'Beijing Juneng Hesheng Industry Investment Fund, Beijing Shuju Xinrong Fund', 'Goldman Sachs, Insights Venture Partners, Pritzker Group Venture Capital', 'Warburg Pincus, Aviation Industry Corporation of China', 'Target Global, UBS Asset Management, Mubadala Capital', 'Accel, Insight Partners, Bond Capital', 'Matrix Partners China, Sequoia Capital China, Hundreds Capital', 'Tiger Global Management, Hedosophia', 'Sequoia Capital', 'Greylock Partners, capitalG, Y Combinator', 'Madrona Venture Group, Tiger Global Management, Madera Technology Partners', 'KKR, Aspenwood Ventures, Spark Capital', 'ICG', \"Ontario Teachers' Pension Plan, Goldman Sachs\", 'Accel, Tiger Global Management, Nexus Venture Partners', 'Khosla Ventures', 'Ignition Partners, Formation 8, CRV', 'Version One Ventures, Uncork Capital, Bessemer Venture Partners', 'Madrona Venture Group, Kleiner Perkins Caufield & Byers, Highland Capital Partners', 'Shunwei Capital Partners, 5Y Capital, Legend Capital', 'Tomales Bay Capital, Bain & Company, General Catalyst', 'Passion Capital, Thrive Capital, Orange Digital Ventures', 'Kleiner Perkins Caufield & Byers, Afore Capital, Founders Fund', 'Insight Partners, Sequoia Capital, Index Ventures', 'Eastern Bell Capital, Capital Today, Longzhu Capital', 'Insight Partners, Salesforce Ventures, Perpetual Investors', 'Andreessen Horowitz, Coinbase Ventures, Tiger Global Management', 'Delian Capital, China International Capital Corporation, Sequoia Capital China', 'Innova Capital - FIP, 3G Capital Management, Prosus Ventures', 'T. Rowe Price, Lockheed Martin Ventures, Fidelity Investment', 'Centurium Capital, Cedarlake Capital, Unicom Innovation Venture Capital', 'Bessemer Venture Partners, MoreVC, Team8', 'Accel, Technology Crossover Ventures, LeapFrog Investments', 'General Catalyst Partners, Google Ventures, Kleiner Perkins Caufield & Byers', 'Hinduja Group', 'Partech Partners, Index Ventures, Quadrille Capital', 'Vista Equity Partners, Wincove, TDR Capital', 'Vostok New Ventures, The Raine Group, Balderton Capital', 'Index Ventures, Coatue Management, Andreessen Horowitz', 'GGV Capital, BlackRock, ACE & Company', 'Y Combinator, Matrix Partners, Benchmark', 'K2 Ventures, Matrix Partners China, IDG Capital', 'Accel, Tiger Global Management, Omidyar Network', 'Slack Fund, Accel, Skip Capital', 'Redpoint Ventures, Providence Equity Partners, Silversmith Capital Partners', 'FirstMark Capital, Tiger Global Management', 'Craft Ventures, Caffeinated Capital, Operator Collective', 'TPG Growth, Goldman Sachs', 'Sequoia Capital China, Lenovo Capital and Incubator, Group GSR Ventures', 'K2 Global, 500 Startups', 'Kleiner Perkins Caufield & Byers, Softbank Corp., Sherpalo Ventures', 'Accelm Scania Growth Capital, Lakestar', 'Smilegate Investment, DSC Investments, KTB Ventures', 'Iris Capital, Accel, Elaia Partners', 'American Express Ventures, Goldman Sachs, Bain Capital Credit', 'Insight Partners, Sequoia Capital, Stripes Group', 'Alta Ventures Mexico, General Atlantic, SoftBank Group', 'Left Lane Capital, Galaxy Interactive, Tru Arrow Partners', '8VC, Activant Capital, GLP Capital Partners', 'CRV, Y Combinator, Initialized Capital', 'Dell Technologies Capital, Pitango Venture Capital, Amadeus Capital Partners', 'Fashion Tech Lab, Fidelity Investments, Vast Ventures', 'Jiangsu Sha Steel Group, Shanghai Puyin Industry, Funa Yuanchuang Technology', 'IMM Investment, NXC', 'Pine Brook, American Express Ventures, Kleiner Perkins Caufield & Byers', 'Matrix Partners China, Bright Venture Capita, Shenzhen Capital Group', 'LocalGlobe, Kinnevik, Felix Capital', 'GAM Holding', 'V Star Capital, GF Xinde Investment Management Co., Haitong Leading Capital Management', 'Elaia Partners, 83North, Felix Capital', 'Mitsubishi Corporation, Mayfair Equity Partners', 'Boxin Capital, DT Capital Partners, IDG Capital', 'Qiming Venture Partners, China Broadband Capital, CDH Investments', 'Newion Partners, SmartFin Capital, OMERS Ventures', 'FAW Group, Tencent Holdings, Tus Holdings', 'Octopus Ventures, Munich Re Ventures, CommerzVentures', 'Female Founders Fund, Oak HC/FT Partners, Sequoia Capital', 'Thrive Capital, Tiger Global Management, Temasek', 'Sequoia Capital China, Linear Venture, Hearst Ventures', 'Sequoia Capital India, Hillhouse Capital Management, Sunley House Capital Management', '8VC, Norwest Venture Partners, Tiger Global Management', 'Khosla Ventures, Kleiner Perkins Caufield & Byers, Collaborative Fund', 'GreatPoint Ventures, Meritech Capital Partners, PayPal Ventures', 'Yabeo Capital, SBI Investment, Vulcan Capital', 'VY Capital, Accel, Elevation Capital', 'Zeev Ventures, Menlo Ventures,Crosslink Capital', 'Qiming Venture Partners, China Internet Investment Fund, Qualcomm Ventures', 'Legend Capital, CDH Investments, Sequoia Capital China', 'R-Z Capital, Green Pine Capital Partners, SAIF Partners China', 'Sequoia Capital Israel, Scale Venture Partners, Commerce Ventures', 'Hillhouse Capital Management, Boyu Capital, Sequoia Capital China', 'Andreessen Horowitz, Amplify Partners, Sequoia Capital', 'Contour Venture Partners, Battery Ventures, Core Capital Partners', 'CreditEase Fintech Investment Fund, BMW i Ventures, SoftBank Group', 'Greylock Partners, Google Ventures, BlackRock', 'SC.Holdings, Not Boring Capital, Bolt Ventures', 'Index Ventures, Battery Ventures, ICONIQ Capital', 'btov Partners, Geely, Intel Capital', 'Helion Venture Partners, Bain Capital Tech Opportunities, Sequoia Capital India', 'China Environmental Protection Industry, China Fortune Ocean', 'Bain Capital, Altos Ventures, Songhyun Investment', 'Redpoint Ventures, Goldcrest Capital, Insight Partners', 'Insight Partners, Jackson Square Ventures, Liberty Gloval Ventures', 'IDG Capital, Francisco Partners, ZhenFund', 'IDG Capital, Venture51, Lightspeed Venture Partners', 'Benchmark, Accel, SoftBank Group', 'SWaN & Legend Ventures, Revolution Growth, Invus Group', 'New Enterprise Associates, Starr Investment Holdings', 'EQT Partners, Blackstone', 'GSR Ventures, Sapphire Ventures, Streamlined Ventures', 'Goodwater Capital, Warburg Pincus, GS Growth', 'Eight Roads Ventures, One Peak Partners, Creandum', 'One Luxury Group, Eurazeo', 'Sequoia Capital China, Banyan Capital', 'Nexus Venture Partners, CRV, Insight Partners', 'Lightspeed Venture Partners, Redpoint Ventures, Norwest Venture Partners', 'Advent International', 'Geely, SIG Asia Investments, China State Capital Venture Capital Fund', 'Berkshire Partners, Norwest Venture Partners', 'Prysm Capital, Baillie Gifford & Co., TDM Growth Partners', 'CPP Investment Board', 'TAL Education Group, Legend Star, Alibaba Group', 'OMERS Private Equity, T. Rowe Price, Technology Crossover Ventures', 'BlackRock, Tengelmann Ventures, Holtzbrinck Ventures', 'General Catalyst, Digital Currency Group, Accel', 'Accel, Greycroft, Advancit Capital', 'Sequoia Capital China, Goldman Sachs, Matrix Partners China', 'L Catterton, Trellis Partners, Vista Equity Partners', 'Tiger Global Management, Kalaari Capital', 'Insight Partners, Tiger Global Management, Accel', 'Sodexo Ventures, SoftBank Group', 'Andreessen Horowitz, Initialized Capital, TriplePoint Capital', 'Union Square Ventures, Summerhill Venture Partners, Mithril Capital Management', 'Upfront Ventures, Webb Investment Network, D1 Capital Partners', 'Third Point, Electric Capital, Coinbase Ventures', 'March Capital Partners, Temasek, Doha Venture Capital', 'Greylock Partners, General Catalyst, Khosla Ventures', 'Version One Ventures, Bessemer Venture Partners, FirstMark Capital', 'IFC, Ajinomoto', 'NetEase Capital, Northern Light Venture Capital, Microsoft', 'Accomplice, Juxtapose, FirstMark Capital', 'RedBird Capital Partners, CJ ENM, Tencent Holdings', 'UNITY VENTURES, Qiming Venture Partners, GGV Capital', 'Tiger Global Management, Sequoia Capital, Revo Capital', 'Initialized Capital, Canaan Partners, Sound Ventures', 'Atomico, NGP Capital, Google Ventures', 'General Atlantic, Piton Capital, Partech Partners', 'Atop Capital, IDInvest Partners, Qiming Venture Partners', 'Blumberg Capital, American Express Ventures, BDC Venture Capital', 'Accel Partners, Sequoia Capital', 'Hillhouse Capital Management, SoftBank Group, Qiming Venture Partners', 'Sequoia Capital China, China Life Investment Holding Company, Qiming Venture Partners', 'DST Global, SoftBank Group, Mountain Nazca', 'Andreessen Horowitz, IA Ventures, Felicis Ventures', 'NewView Capital, Maveron, Ridge Ventures', 'Movile, Just Eat, Naspers', 'Nyca Partners, Index Ventures, Technology Crossover Ventures', 'Index Ventures, Sequoia Capital, Bezos Expeditions', 'Vision Plus Capital, GSR Ventures, ZhenFund', 'Accel, AltaIR Capital, Technology Crossover Ventures', 'Toyota Motor Corporation, Mizuho Financial Group, FANUC', 'Highland Capital Partners, Next Coast Ventures, SoGal Ventures', 'Initialized Capital, Y Combinator, Kleiner Perkins Caufield & Byers', 'Silversmith Capital Partners, Susquehanna Growth Equity, Tiger Global Management', 'Andreessen Horowitz, Thrive Capital, Sound Ventures', 'Y Combinator, S Capital, Tenaya Capital', 'GreatPoint Ventures, Tiger Global Management, Menlo Ventures', 'WRVI Capital, Caffeinated Capital, Y Combinator', 'General Atlantic, Goldman Sachs, New Enterprise Associates', 'Madrona Venture Group, Shasta Ventures, Salesforce Ventures', 'Accel, Cobalt Capital, Andreessen Horowitz', 'Temasek, BUILD Capital Partners, Northzone Ventures', 'Menlo Ventures, GGV Capital, Flybridge Capital Partners', 'DataTribe, Energy Impact Partners, AllegisCyber Capital', 'Wildcat Capital Management, Insight Partners, Tola Capital', 'Tencent Holdings, Warbug Pincus, IDG Capital', 'Google Ventures, Cathay Innovation, NJF Capital', 'Hillhouse Capital Management, Sequoia Capital China, Linear Venture', 'Insight Partners, Salesforce Ventures, Vertex Ventures', 'Playground Global, Bond, Tribe Capital', 'Spark Capital, Google Ventures, CRE Venture Capital', 'Menlo Ventures, Spark Capital, Union Square Ventures', 'RRE Ventures, Tiger Global, August Capital', 'Sequoia Capital India, RTP Global, Go-Ventures', 'Atinum Investment, Company K Partners, GIC', 'Sequoia Capital China, InnoVision Capital, Qianhai Fund of Funds', 'Balderton Capital, General Catalyst, Tiger Global Management', 'EQT Partners', 'Sequoia Capital, Paradigm, Pantera Capital', 'Cowboy Ventures, Leaders Fund, GGV Capital', 'Goldman Sachs', 'Kleiner Perkins Caufield & Byers, Sequoia Capital, General Catalyst', 'Khosla Ventures, Green Innovations, Founders Fund', 'Uniion Square Ventures, Tiger Global Management, Lightspeed Venture Capital', 'Insight Partners, AltaIR Capital, Norma Investments', 'Zeev Ventures, Group11, Chicago Ventures', 'China Life Insurance, China Development Bank Capital, CITIC Securities International', 'Blackstone, Technology Crossover Ventures, Summit Partners', 'IAG Capital Partners, Augmentum Fintech, Northzone Ventures', 'Newpath Partners, Google Ventures, F-Prime Capital', 'Sequoia Capital, Y Combinator, F-Prime Capital', 'Sequoia Capital India, Tiger Global Management, Tencent', 'Advantech Capital, Temasek Holdings Ltd., Tiantu Capital Co.', 'SoftBank Group, Norwest Venture Partners', 'Lightspeed Venture Partners, Redpoint Ventures, Viking Global Investors', 'Dynamo VC, Susa Ventures, Founders Fund', 'New Enterprise Associates, Accomplice, IA Ventures', 'Intact Ventures, Munich Re Ventures, General Atlantic', 'Sequoia Capital China, Rich Land Capital, Merrysunny Wealth', 'Silver Lake, ICONIQ Capital', 'SBI Investment Korea, Partners Investment, GIC', 'Battery Ventures, Storm Ventures, Redpoint Ventures', 'Blackstone, ICONIQ Growth, General Atlantic', 'Khosla Ventures, Forerunner Ventures, Sequoia Capital', 'New Enterprise Associates, BDT Capital Partners, Davidson Kempner Capital Management', 'Dragoneer Investment Group, Hellman & Friedman, JMI Equity', 'CRV, Accel, Google Ventures', 'Accel, Sequoia Capital, Y Combinator', 'Warmsun Holding, IDG Capital Partners', 'Eastern Bell Capital 32, SDIC CMC Investment Management, Trustbridge Partners', 'JTC Group, Qatar Investment Authority, Fidelity Investment', 'Insight Partners, Coinbase Ventures, PayPal Ventures', 'Jungle Ventures, Helion Venture Partners, INGKA Investments', 'AME Cloud Ventures, Future Perfect Ventures, Blockchain Capital', 'Felicis Ventures, Index Ventures, Blackbird Ventures', 'Opus Capital, Genesis Partners, Battery Ventures', 'Banyan Capital, New Horizon Capital, IDG Capital Partners', 'Sequoia Capital, Google Ventures, Accel', 'Andreessen Horowitz, F-Prime Capital, Venrock', 'Thrive Capital, General Catalyst, Coatue Management', 'TPG Capital, Apax Partners, TA Associates', 'Lemniscap VC, North Island Ventures, Polychain Capital', 'Scale Venture Partners, Bond, Tiger Global Management', 'Polychain Capital, Coinbase Ventures, Jump Capital', 'Bessemer Venture Partners, Qualcomm Ventures, Kleiner Perkins Caufield & Byers', 'Viola Ventures, Insight Partners, ClalTech, Goldman Sachs', 'DN Capital, Left Lane Capital, Coatue Management', 'DST Global, General Catalyst, Monashees+', 'The Blue Venture Fund, Flare Capital Partners, Longitude Capital', 'Tiger Global Management', 'Sequoia Capital China, China Construction Bank, Bank of China', 'Coatue Management, Insight Partners, Trinity Ventures', 'Sequoia Capital, Index Ventures, S Capital', 'Liberty City Ventures, RRE Ventures, Mithril Capital Management', 'Kaszek Ventures, QED Investors, International Finance Corporation', 'Qualcomm Ventures, Samsung Ventures, Silver Lake', 'Runa Capital, Acton Capital Partners, Point Nine Capital', 'Digital Currency Group, Draper Esprit, Korelya Capital', 'MHS Capital, NextView Ventures, Mayfield Fund', 'Ardian, Tiger Global Management, KKR', 'Andreessen Horowitz, Triangle Peak Partners, Ignition Partners', 'Info Edge, Softbank Capital', 'Flybridge Capital Partners, SoftBank Group, Monashees+', 'Technology Crossover Ventures, A&E Television Networks', 'Morgan Creek Digital, Marcy Venture Partners, 10T Fund', 'Stripe, Founders Fund, Partech Partners', 'Undisclosed', 'Left Lane Capital, Clocktower Technology Ventures, Jump Capital', 'Sequoia Capital China, Warburg Pincus, General Catalyst', 'SoftBank Group, Andreessen Horowitz, Temasek Holdings', 'Activant Capital Group, Alaska Permanent Fund, Baillie Gifford & Co.', 'March Capital Partners, HOF Capital, Emergence Capital Partners', 'Lightspeed Venture Partners, Access Industries, Eldridge', 'Sequoia Capital China, ZhenFund, K2 Ventures', 'Zhangjiang Haocheng Venture Capital, Walden International, Intel Capital', 'Lightspeed Venture Partners, Almaz Capital Partners, Altimeter Capital', 'Foundry Group, General Atlantic, BlackRock', 'Dila Capital, Framework Ventures, 3L', 'Sequoia Capital, Thrive Capital, Sound Ventures', 'CDIB Capital', 'Sequoia Capital China, Source Code Capital, Redpoint Ventures China', 'Morningside Ventures, Capital Today, JOY Capital', 'SoftBank Group, Maverick Capital', 'FirstMark Capital, Tiger Global Management, FTX Venture', 'British Patient Capital, SEB Venture Capital, IQ Capital', 'U.S.-China Green Fund, Founder H Fund, Richland Equities', 'Andreessen Horowitz, FTX Ventures, Tiger Global Management', 'Automobile Industry Guidance Fund', 'Benchmark, Altimeter Capital, Quiet Capital', 'M13, Lightspeed Venture Partners, Lone Pine Capital', 'Battery Ventures, Andreessen Horowitz, Ribbit Capital', 'SoftBank Group', 'Madrona Venture Group, Banner Ventures, FJ Labs', 'Morningside Venture Capital, IDG Capital, DCM Ventures', 'Andreessen Horowitz, Greylock Partners, Sequoia Capital', 'Blackbird Ventures, IndexVentures, Tiger Global Management', 'Passion Capital, Hedosophia, Outrun Ventures', 'Zheshang Venture Capital, GP Capital, Western Capital Management', 'Insight Partners, Andalusian Capital Partners', 'Gauss Ventures, Ventura Capital, dmg ventures', 'Union Square Ventures, Ribbit Capital, VY Capital', 'Founders Fund, Quantum Energy Partners, Bedrock Capital', 'New Enterprise Associates, T. Rowe Associates, Lightbank', 'Lightspeed China Partners, Baidu Ventures, Qiming Venture Partners', 'Sinovation Ventures, Tencent Holdings, Sequoia Capital China', 'Prometheus Capital, Matrix Partners China, JD Capital Management', 'Tiger Global Management, Sequoia Capital China, Shunwei Capital Partners', 'Insight Partners, Tiger Global Management, Gradient Ventures', 'Breega Capital, Iris Capital, 360 Capital Partners', 'Andreessen Horowitz, Prosus Ventures, Thrive Capital', 'Qualcomm Ventures, Nine Intelligence Capital, Hillhouse Capital Management', 'TSG Consumer Partners, Crowdcube', 'Alibaba Group, Boyu Capital, Borui Capital', 'Paradigm, Huobi Ventures, Andreessen Horowitz', 'Accel Partners, Index Ventures, Insight Venture Partners', 'IDG Capital, Northern Light Venture Capital, DCM Ventures', 'Andreessen Horowitz, Lightspeed Venture Partners, Zeev Ventures', 'SoftBank Latin America Fund, Advent International, Balderton Capital', 'Index Ventures, Draft Ventures, Felicis Ventures', 'Chiratae Ventures, PremjiInvest, Softbank', 'Accel, Y Combinator, Index Ventures', 'Deer Park Road, Altamont Capital Partners, Eldridge', 'Tencent, Baidu, Huasheng Capital', 'Sequoia Capital India, The Times Group, GMO VenturePartners', 'Mangrove Capital Partners,14W, ForgeLight', 'True Ventures, Altimeter Capital, Redpoint Ventures', 'Andreessen Horowitz, SoftBank Group, Temasek Holdings', 'Venrock, CVF Capital Partners, ARCH Venture Partners', 'Tiger Global Management, American Express Ventures, B Capital Group', 'Khosla Ventures, General Catalyst, Blumberg Capital', 'Lightspeed India Partners, Sequoia Capital India, Endiya Partners', 'Bojiang Capital, Hongdao Capital, Mobai Capital', 'SignalFire, GLP Capital Partners, Google Ventures', 'Andreessen Horowitz, Intel Capital, Foundation Capital', 'Tiantu Capital, SAIF Partners China, Newsion Venture Capital', 'China Creation Ventures, Sierra Ventures, Xingwang Investment Management', 'General Catalyst, Eleation Capital, Avenir Growth Capital', 'Bonfire Ventures, Two Sigma Ventures, FJ Labs', 'Insight Partners, Softbank Group, Connect Ventures', \"B Capital Group, Monk's Hill Ventures, Dynamic Parcel Distribution\", 'Qiming Venture Partners', 'Owl Ventures, Technology Crossover Ventures, Tao Capital Partners', 'Marathon Venture Partners, Huagai Capital, China Creation Ventures', 'Breakthrough Energy Ventures, Capricorn Investment Group, Valor Equity Partners', 'Lightspeed Venture Partners, Khosla Ventures, Munich Re Ventures', 'Silverton Partners, Accel, Ballast Point Ventures', 'Andreessen Horowitz, Blockchain Capital, Lux Capital', 'Ant Group, Charoen Pokphand Group, Bow Wave Capital', 'Zeev Ventures, Ribbit Capital, TLV Partners', 'Tiger Global Management, Insight Partners, DST Global', 'Bessemer Venture Partners, Menlo Ventures, Anthermis', 'Upper90, RiverPark Ventures, Advent International', 'General Catalyst, Institutional Venture Partners, Breyer Capital', 'Javelin Venture Partners, TTV Capital, Peterson Ventures', 'V FUND, IDG Capital, Green Pine Capital Partners', 'Index Ventures, Greylock Partners, Kleiner Perkins Caufield & Byers', 'Lightspeed Venture Partners, Social Capital, Accel', 'General Catalyst, Inspired Capital, Flybridge Capital Partners', 'Acero Capital, General Catalyst, M12', 'Monashees+, Andreessen Horowitz, QED Investors', 'Andreessen Horowitz, Founders Fund, Revolution Ventures', 'York Capital Management, GE Healthcare, Koch Disruptive Technologies', 'Thrive Capital, Durable Capital Partners, G Squared', 'Qiming Venture Partners, Yaxia Automobile, Far East Horizon', 'New Enterprise Associates, Greylock Partners, Andreessen Horowitz', 'Dragoneer Investment Group, DST Global, Franklin Templeton', 'Chiratae Ventures, March Capital Partners, National Grid Partners', 'Bain Capital Tech Opportunities, Andreessen Horowitz, Sequoia Capital', 'FTV Capital', 'BEENEXT, World Innovation Lab, Light Street Capital', 'Accel Partners, SoftBank Group, Sequoia Capital', 'New Enterprise Associates, Founders Fund, Google Ventures', 'Founders Fund, Draper Fisher Jurvetson, Rothenberg Ventures', 'Lakestar, Battery Ventures, New Enterprise Associates', 'Amplify Partners, Addition, Madrona Venture Group', 'Tiger Global Management, Sequoia Capital India, Ribbit Capital', 'Blackstone', 'DST Global, Sequoia Capital China, Tencent Holdings', 'DCM Ventures, IDG Capital, Siam Commercial Bank', 'Sequoia Capital China, SIG Asia Investments, Sina Weibo, Softbank Group', 'Russia-China Investment Fund, Tencent Holdings, Sequoia Capital China', 'Co-Energy Finance, Grandland', 'Tencent Holdings, Walden Venture Capital, Global Catalyst Partnera', 'BOLDstart Ventures, Lerer Hippeau, Kenetic Capital', 'China Grand Prosperity Investment, Silk Road Huacheng, Oriza Equity Investment', 'Georgian Co-Investment Fund, iTech Capital, Galaxy Digital', 'Casa Verde Capital, Gron Ventures, Thrity Five Ventures', 'Sequoia Capital China, GX Capital', 'General Catalyst, HCA Healthcare', 'Qiming Venture Partners, Capital Today, General Atlantic', 'Global Founders Capital, East Ventures, Expedia Inc.', 'Alibaba Group, KKR, Goldman Sachs', 'Volkswagen Group, Ford Autonomous Vehicles', 'Goldman Sachs Asset Management, SDP Investment, Alibaba Group', 'New Enterprise Associates, CRV, Index Ventures', 'Sixth Street Partners, OrbiMed Advisors, Highland Capital Management', 'Insight Partners, e.ventures, General Atlantic', 'Ginko Ventures', 'Lightspeed Venture Partners, Data Collective, 8VC', '58.com, Tencent Holdings', 'Andreessen Horowitz, Thirty Five Ventures, Sound Ventures', 'Fifty Years Fund, Refactor Capital, Temasek', 'Blackrock, Kleiner Perkins Caulfield & Byers, Google Ventures', 'Venrock, Innovation Endeavors, Insights Partners', 'General Atlantic, 3i Group, Huagai Capital', 'China Prosperity Capital', 'Brookfield Asset Management, Blackstone, Data Collective', 'Accel, Greylock Partners, Meritech Capital Partners', 'Baidu, Tencent Holdings', 'Union Square Ventures, Venrock, Andreessen Horowitz', 'Spectrum Equity, ICONIQ Capital, Grayhawk Capital', 'Barter Ventures', 'Tencent Holdings, Delta Capital, Redpoint Ventures China', 'Bessemer Venture Partners, Eight Roads Ventures, Battery Ventures', 'One Equity Partners', 'DJF, Salesforce Ventures, Storm Ventures', 'Knox Lane, Ainge Advisory, Carlson Private Capital Partners', 'Insight Partners, TPG Alternative & Renewable Technologies, Ireland Strategic Investment Fund', 'Helion Venture Partners, Tiger Global management, CRV', 'Tiger Global Management, Blue Lake Capital, ZhenFund', 'AirTree Ventures, Insight Partners, Index Ventures', 'Accel, Softbank Group, Anthos Capital', 'Matrix Partners, Andreessen Horowitz, General Catalyst', 'Thrive Capital, Benchmark, MenloVentures', 'Sequoia Capital, General Atlantic', 'Advent International, Battery Ventures, Sequoia Capital Israel', 'LocalGlobe, Balderton Capital, Target Global', 'General Catalyst, Future Ventures, AU21', 'Sequoia Capital China, SIG Asia Investments, ZhenFund', 'Zeev Ventures, GSV Ventures', 'China Culture Industrial Investment Fund, We Capital, China Minsheng Investment Group', 'Accel, Northzone Ventures, Institutional Venture Partners', 'Matrix Partners, Lightspeed Venture Partners, Verizon Ventures', 'WestBridge Capital, GSV Ventures, Elevar Equity', 'Forerunner Ventures, Institutional Venture Partners, Thrive Capital', 'Yunqi Partners, SoftBank Group, iVision Ventures', 'Coatue Management, H Capital, Capital Today', 'Plug and Play Ventures, Valor Capital Group, DST Global', 'Sequoia Capital China, IDG Capital, DCM Ventures', 'Accel, Sands Capital, International Finance Corporation', 'General Catalyst, Bling Capital, Felicis Ventures', 'Durable Capital Partners, Cercano Management, T. Rowe Price', 'Warburg Pincus, Summit Partners, Sands Capital', 'SEED Capital, Greyhound Capital, Socii Capital', 'Standard Chartered, FinSight Ventures, Affirma Capital', 'YL Ventures, Redpoint Ventures, GGV Capital', 'Vertex Ventures SE Asia, Global Founders Capital, Visa Ventures', 'Khosla Ventures, LowercaseCapital, capitalG', 'SCB 10X, Krungsri Finnovate, eWTP Capital', 'Glory Ventures, Maniv Mobility', 'Khosla Ventures, Thrive Capital, Y Combinator', 'Seaya Ventures, Otter Rock Capital, Rakuten', 'Temasek, Guggenheim Investments, Qatar Investment Authority', 'Silver Lake Partners, General Atlantic', 'Aglae Ventures, Eurazeo, Daphni', 'Softbank Ventures Asia, Alpha JWC Ventures, Insignia Ventures Partners', 'Polychain Capital, Paradigm, Ribbit Capital', 'Bessemer Venture Partners, Sutter Hill Ventures, Matrix Partners', 'Goodwater Capital, iFly, XVC Venture Capital', 'FirstMark Capital, Georgian Partners, Norwest Venture Partners', 'Ribbit Capital, capitalG, Softbank Group', 'Tencent Holdings, 5Y Capital, Sequoia Capital China', 'Moonshots Capital, BoxGroup, Blu Venture Investors', 'Brighton Park Capital, Blue Cloud Ventures, Workday Ventures', 'Point72 Ventures, Route 66 Ventures, Accel', 'Sequoia Capital India, Temasek, PayPal Ventures', 'Propel Venture Partners, Monashees+, BBVA', 'General Atlantic', 'Sequoia Capital China, CMC Capital Partners, Tencent Holdings', 'GGV Capital, Lightspeed Venture Partners, ICONIQ Capital', 'PSG, ION Crossover Partners', 'Alpha Wave Global, Matrix Partners India, Tiger Global Management', 'Norwest Venture Partners, Aspect Ventures, Lightspeed Venture Partners', 'DFJ Growth Fund, Coatue Management, Addition', 'Insight Partners, Sequoia Capital India, BEENEXT', 'Draper Fisher Jurtson, Qualcomm Ventures, Alibaba Group', 'Tiantu Capital, CMB International Capital, Vision Knight Capital', 'Insight Venture Partners, ICONIQ Capital, Launchpad Venture Group', 'Andreessen Horowitz, Lux Capital, General Catalyst', 'Alven Capital, FirstMark Capital, capitalG', 'Green Visor Capital, CRE Venture Capital, Greycroft', 'Andreessen Horowitz, Caffeinated Capital, SciFi VC', 'Accel Partners, Greylock Partners, Lowercase Capital', 'Andreessen Horowitz, Homebrew, Point72 Ventures', 'Menlo Ventures, Resolute Ventures, IA Ventures', 'Horizons Ventures, Sequoia Capital India, Alpha JWC Ventures', 'FundersClub, Y Combinator, Tiger Global Management', 'Susquehanna Growth Equity, Citi Ventures, ICONIQ Capital', 'Lightspeed Venture Partners, Dell Technologies Capital, Wipro Ventures', 'Blume Ventures, Nexus Venture Partners, Sequoia Capital India', 'Innovation Endeavors, Aleph, Temasek', 'Index Ventures, Creandum, Accel', 'Lindeman Asia Investment, Nichi-Iko Pharmaceutical', 'China Investment Corporation, New Enterprise Associates', 'Matrix Partners India, Falcon Edge Capital, SoftBank Group', 'Index Ventures, Thrive Capital, Bain Capital Ventures', 'Mundi Ventures, Doqling Capital Partners, Activant Capital', 'Sequoia Capital India, Hummingbird Ventures, Epiq Capital', 'Global Founders Capital, Shea Ventures, Greycroft', 'Insight Partners, Bain Capital Ventures', 'Blackstone, Bessemer Venture Partners', 'Thrive Capital, Alliance Consumer Growth, Imaginary Ventures', 'Mayfield, Accel, Norwest Venture Partners', 'Atomico, Hanaco Venture Capital, TriplePoint Capital', 'Playground Global, M12, BlackRock', 'The Carlyle Group, CVC Capital Partners', 'Marchmont Ventures, BMW i Ventures, Index Ventures', 'HD Capital, Qihoo 360 Technology, China Fortune Land Development', 'Woodford Investment Management', 'Accel, frst, Kima Ventures', 'Point72 Ventures, Pelion Venture Partners, Commerce Ventures', 'Redpoint Ventures, Norwest Venture Partners, Sierra Ventures', '8VC, Bedrock Capital, Broom Ventures', 'Polaris Partners, Insight Partners, Norwest Venture Partners', 'IDG Capital, Bank Of China Group Investment,, SDIC CMC Investment Management', 'BPI France, Kerala Ventures, Accel', 'BOLDstart Ventures, Google Ventures, Accel', 'Emergence Capital Partners, 8VC, Chicago Ventures', 'Upfront Ventures, Tao Capital Partners, Andreessen Horowitz', 'Andreessen Horowitz, Spark Capital, Y Combinator', 'Trane Technologies, Honeywell', 'NFX, Plum Alley, Mayfield', 'Fifth Wall Ventures, JBV Capital, Array Ventures', 'Menlo Ventures, Alkeon Capital Management, Citi Ventures', 'Union Square Ventures, Insight Partners, Spark Capital', 'Intel Capital, Aviv Venture Capital', 'Accel, Falcon Edge Capital, Norwest Venture Partners', 'Kleiner Perkins Caufield & Byers, Lightspeed Venture Partners, True Ventures', 'Kalaari Capital, Norwest Venture Partners, Prosus Ventures', 'Sequoia Capital China, Gopher Asset Management, Shanghai Electric Group', 'Tencent Holdings, Hillhouse Capital Management', 'index Ventures, DST Global, Ribbit Capital', 'Coatue Management, Atlantic Food Labs, DST Global', 'DST Global, Andreessen Horowitz, Sequoia Capital, Redpoint e.ventures', 'Wellington Management, Eurazeo, Citi Ventures', 'Greycroft, Sands Capital, Revolution Growth', 'Sequoia Capital India, Lightbox Ventures, Coatue Management', 'American Family Ventures, Cox Enterprises, OMERS Ventures', 'Pitango Venture Capital, DFJ Growth Fund, Foundry Group', 'Data Collective, Formation 8, General Catalyst Partners', 'Moore Strategic Ventures, DST Global, Sequoia Capital India', 'Index Ventures, Benchmark, Thrive Capital', 'QED Investors, DST Global, Left Lane Capital', 'XBTO Ventures, Raven One Ventures, SK Ventures', 'N5 Capital, CR Capital Mgmt, JD Digits', 'Samsung Ventures, SingulariTeam, BP Ventures', 'Advance Venture Partners, Susquehanna Growth Equity, Lupa Systems', 'Qualcomm Ventures, Woori Investment, Hanwha Investment & Securities', 'Atomico, Insight Partners, Coatue Management', 'General Atlantic, Blackstone, ICONIQ Growth', 'Gobi Partners, 500 Startups, Ondine Capital', 'Dragonfly Captial, Qiming Venture Partners, DST Global', 'Sozo Ventures, Caffeinated Capital, Sequoia Capital', 'Vista Equity Partners, Warburg Pincus, First Ascent Ventures', 'Fabric Ventures, 500 Global, Standard Crypto', 'General Atlantic, Insight Partners, Vintage Investment Partners', 'Source Code Capital, Global Logistic Properties, K2VC', 'Invus Group, Hanaco Venture Capital, WestCap Group', 'SoftBank Group, Greylock Partners, Gaorong Capital', 'Obvious Ventures, Qualcomm Ventures, Andreessen Horowitz', 'Insight Partners', 'Advent International, Bain Capital Ventures, Silversmith Capital Partners', 'Scale Venture Partners, Sapphire Ventures, Battery Ventures', 'CE-Ventures, BECO Capital, Nordstar', 'Andreessen Horowitz, Kleiner Perkins Caufield & Byers, EQT Ventures', 'L Capital Partners', 'Carsales', 'Source Code Capital, Meituan Dianping, Tencent Holdings', 'Forerunner Ventures, Crosslink Capital, Homebrew', 'K9 Ventures, Menlo Ventures, Andreessen Horowitz', 'SoftBank Group, Tiger Global Management, Matrix Partners India', 'Volkswagen, Access Industries, Vostok New Ventures', 'C5 Capital, Hemisphere Ventures, The Venture Collective', 'Y Combinator, Accel, T. Rowe Price', 'Andreessen Horowitz, TQ Ventures', 'T. Rowe Price, Dragoneer Investment Group, BlackRock', 'Notion Capital, Scentan Ventures, Kite Ventures', 'Max Ventures, Mangrove Capital Partners, 14W', 'General Catalyst, Origin Ventures, Fontinalis Partners', 'Clermont Group, Coltrane Asset Management, Toscafund Asset Management', 'Bain Capital Ventures, Sixth Street Growth, Lightspeed Venture Partners', 'A&NN, Rusnano', 'SAIF Partners India, Warburg Pincus, Trifecta Capital Advisors', 'BOC International, TopoScend Capital, Hongxiu VC', 'Goldman Sachs, Leonardo DiCaprio, Promecap', 'DST Global, Sequoia Capital China, Gaorong Capital', 'OLX Group, KCK Group, EXOR Seeds', 'Sequoia Capital China, Sina Weibo, Kleiner Perkins Caufield & Byers, Redpoint Ventures', 'Insight Partners, Kibo Ventures, Bessemer Venture Partners', 'Norwest Venture Partners, Investcorp, Blackstone', 'Times Internet, Nexus Venture Partners, SoftBank Group', 'Venture Highway, Sequoia Capital India, Prosus Ventures', 'Alven Capital, Valar Ventures, Tencent Holdings', 'Rubicon Technology Partners, Max Ventures, Inclusive Capital Partners', 'Bregal Sagemount', 'Tencent Holdings, Lightspeed India Partners, Sequoia Capital India', 'Warburg Pincus, The Rise Fund, HarbourVest Partners', 'Jackson Square Ventures, Greenoaks Capital Management, Softbank Group', 'Tiger Global Management, Tiger Brokers, DCM Ventures', 'Ardian, Bain Capital', 'Sequoia Capital, Bessemer Venture Partners, Threshold Ventures', 'New Enterprise Associates, Sequoia Capital, Comcast Ventures', 'Venrock, Battery Ventures, Insight Partners', 'Phoenix New Media, Tianjin Haihe Industry Fund', 'Institutional Venture Partners, Atomico, Earlybird Venture Capital', 'Kaszek Ventures, General Atlantic, SoftBank Group', 'Bertelsmann Asia Investments, Sequoia Capital China, NIO Capital', 'Coatue Management, Sequoia Capital China, IDG Capital', 'Novator Partners, True, Causeway Media Partners', 'General Atlantic, Elevation Capital, BEENEXT', 'Crosslink Capital, .406 Ventures, Sapphire Ventures', 'Jackson Square Ventures, Madrone Capital Partners, Sequoia Capital', 'Kibo Ventures, SoftBank Group, Atomico', 'Norwest Venture Partners, Hillsven Capital, Aleph', 'Khosla Ventures, Horizons Ventures, Founders Fund', 'Tiger Global Management, Insight Partners, Jump Capital', 'Kinnevik, Softbank Group, Prosus Ventures', 'Greylock Partners, Lightspeed Venture Partners, Khosla Ventures', 'Insight Partners, Lightspeed Venture Partners, CyberStarts', 'Lightspeed Venture Partners, Google Ventures, Lakestar', 'New Enterprise Associates, Accel, Bond', 'BlueRun Ventures, Grand Flight Investment, Meituan Dianping', '83North, RiverPark Ventures, Pitango Venture Capital', 'Thrive Capital, Founders Fund, Cocnord Health Partners', 'Andreessen Horowitz, DST Global, IDG Capital', 'B Capital Group,, GE Ventures, McKesson Ventures', 'Index Ventures, Temasek, Portag3 Ventures', 'Matrix Partners, Passport Capital, Rho Ventures', 'Trustbridge Partners, Hony Capital, IDG Capital', 'Investment Corporation of Dubai, Centralway', 'Deciens Capital, Bezos Expeditions, 500 Startups', 'Griffin Gaming Partners, Andreessen Horowitz, Battery Ventures', 'DST Global, Lightspeed Venture Partners, Microsoft ScaleUp', 'Didi Chuxing, Diamler, TMT Investments', 'Storm Ventures, DFJ DragonFund, New Enterprise Associates', 'Institutional Venture Partners, Sequoia Capital, General Atlantic', 'Sequoia Capital China, Longfor Capitalm, Gaorong Capital', 'Capital One Growth Ventures, Citi Ventures, OMERS Ventures', 'Coatue Management, Index Ventures, Founders Fund', 'Source Code Capital, Coatue Management, DCM Ventures', 'Pantera Capital, QED Investors, Coinbase Ventures', 'Mayfield, Madrona Venture Group, Tiger Global Management', 'Edison Partners, Georgian Partners, VentureLink', 'Institutional Venture Partners, New Enterprise Associates, Javelin Venture Partners', 'Nexus Venture Partners, Vertex Ventures, STRIVE', 'KKR, FTV Capital, Ten Eleven Ventures', 'Redalpine Venture Partners, Earlybird Venture Capital, Valar Ventures', 'Bessemer Venture Partners, Insight Partners, New Era Ventures', 'Venrock, Institutional Venture Partners, Goldman Sachs', 'Qualcomm Ventures, Accel, Canaan Partners', 'Anthemis, Connect Ventures, Northzone Ventures', 'Mubadala Capital, Bond, Prosus Ventures', 'Creandum, Founders, Kinnevik', 'Accel, 83North']\n"
     ]
    }
   ],
   "source": [
    "investors = list(set(df.Select_Investors))\n",
    "print(investors)"
   ]
  },
  {
   "cell_type": "code",
   "execution_count": null,
   "metadata": {},
   "outputs": [],
   "source": []
  }
 ],
 "metadata": {
  "interpreter": {
   "hash": "cb776a8375f8b9239be053e69763f4892600dfe18133ac09a5580b4dc1bb9f8a"
  },
  "kernelspec": {
   "display_name": "Python 3.9.7 ('base')",
   "language": "python",
   "name": "python3"
  },
  "language_info": {
   "codemirror_mode": {
    "name": "ipython",
    "version": 3
   },
   "file_extension": ".py",
   "mimetype": "text/x-python",
   "name": "python",
   "nbconvert_exporter": "python",
   "pygments_lexer": "ipython3",
   "version": "3.9.7"
  },
  "orig_nbformat": 4
 },
 "nbformat": 4,
 "nbformat_minor": 2
}
